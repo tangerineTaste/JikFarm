{
 "cells": [
  {
   "cell_type": "markdown",
   "metadata": {},
   "source": [
    "# 파일명만 바꿔준 뒤 모두 실행하시면 됩니다.\n",
    "### df_summary['누락_주차'][0] 로 어떤 주차가 누락인지 확인가능"
   ]
  },
  {
   "cell_type": "code",
   "execution_count": 30,
   "metadata": {},
   "outputs": [],
   "source": [
    "import pandas as pd\n",
    "import matplotlib.pyplot as plt\n",
    "import seaborn as sns\n",
    "import numpy as np\n",
    "from datetime import date\n",
    "import os"
   ]
  },
  {
   "cell_type": "code",
   "execution_count": 31,
   "metadata": {},
   "outputs": [],
   "source": [
    "plt.rcParams['font.family'] = 'Malgun Gothic'\n",
    "plt.rcParams['axes.unicode_minus'] = False"
   ]
  },
  {
   "cell_type": "code",
   "execution_count": 32,
   "metadata": {},
   "outputs": [],
   "source": [
    "file_path = 'C:\\\\ai_x\\\\source\\\\JikFam\\\\data\\\\배추_이상치제거_주간기준_등급코드.csv'\n",
    "output_dir = 'C:\\\\ai_x\\\\source\\\\JikFam\\\\eda_results'\n",
    "os.makedirs(output_dir, exist_ok=True)"
   ]
  },
  {
   "cell_type": "code",
   "execution_count": 33,
   "metadata": {},
   "outputs": [],
   "source": [
    "try:\n",
    "    df = pd.read_csv(file_path, encoding='cp949')\n",
    "except FileNotFoundError:\n",
    "    print(f\"오류: 파일 '{file_path}'을(를) 찾을 수 없습니다.\")\n",
    "    raise"
   ]
  },
  {
   "cell_type": "code",
   "execution_count": 34,
   "metadata": {},
   "outputs": [
    {
     "name": "stdout",
     "output_type": "stream",
     "text": [
      "--- 기초 통계량 ---\n",
      "           품목코드           품종코드           등급코드        총금액(원)       총거래량(kg)  \\\n",
      "count  983690.0  983690.000000  983690.000000  9.836900e+05  983690.000000   \n",
      "mean        1.0      31.034062      12.201084  2.022335e+06    2690.909213   \n",
      "std         0.0      41.308382       0.879732  8.511261e+06    9999.330792   \n",
      "min         1.0       0.000000      11.000000  1.000000e+02       0.050000   \n",
      "25%         1.0       4.000000      11.000000  1.002000e+05     100.000000   \n",
      "50%         1.0       8.000000      12.000000  3.870000e+05     410.000000   \n",
      "75%         1.0      99.000000      13.000000  1.386000e+06    1940.000000   \n",
      "max         1.0      99.000000      20.000000  7.100456e+08  784070.000000   \n",
      "\n",
      "             평균단가(원)      주간평균단가(원)         직팜산지코드  휴일여부  명절지수  작기정보  \\\n",
      "count  983690.000000  983690.000000  983690.000000   0.0   0.0   0.0   \n",
      "mean     1263.126936    1262.368560    1068.441629   NaN   NaN   NaN   \n",
      "std      1189.237995     594.748315      64.940992   NaN   NaN   NaN   \n",
      "min         1.111358     460.956092    1000.000000   NaN   NaN   NaN   \n",
      "25%       500.000000     832.714224    1011.000000   NaN   NaN   NaN   \n",
      "50%       900.000000    1101.391170    1079.000000   NaN   NaN   NaN   \n",
      "75%      1625.000000    1580.011479    1107.000000   NaN   NaN   NaN   \n",
      "max     25900.000000    3920.289233    2000.000000   NaN   NaN   NaN   \n",
      "\n",
      "               일평균기온           최고기온           최저기온         평균상대습도  \\\n",
      "count  981380.000000  981380.000000  981380.000000  981380.000000   \n",
      "mean       12.910208      18.571264       8.275603      69.259637   \n",
      "std         9.745473       9.318906       9.779597      15.076828   \n",
      "min       -99.000000     -99.000000     -99.000000      -9.000000   \n",
      "25%         5.600000      11.300000       0.500000      59.600000   \n",
      "50%        13.000000      19.300000       7.600000      71.000000   \n",
      "75%        20.700000      26.000000      16.600000      80.000000   \n",
      "max        33.900000      41.000000      30.600000     100.000000   \n",
      "\n",
      "             강수량(mm)   1시간최고강수량(mm)  \n",
      "count  981380.000000  981380.000000  \n",
      "mean       -2.047538      -5.823099  \n",
      "std        14.738771       6.944344  \n",
      "min        -9.000000      -9.000000  \n",
      "25%        -9.000000      -9.000000  \n",
      "50%        -9.000000      -9.000000  \n",
      "75%         0.300000      -9.000000  \n",
      "max       378.500000     105.400000  \n",
      "--- 데이터 정보 ---\n",
      "<class 'pandas.core.frame.DataFrame'>\n",
      "RangeIndex: 983690 entries, 0 to 983689\n",
      "Data columns (total 22 columns):\n",
      " #   Column        Non-Null Count   Dtype  \n",
      "---  ------        --------------   -----  \n",
      " 0   주차            983690 non-null  object \n",
      " 1   연월일           983690 non-null  object \n",
      " 2   품목코드          983690 non-null  int64  \n",
      " 3   품목명           983690 non-null  object \n",
      " 4   품종코드          983690 non-null  int64  \n",
      " 5   품종명           983690 non-null  object \n",
      " 6   등급코드          983690 non-null  int64  \n",
      " 7   등급이름          983690 non-null  object \n",
      " 8   총금액(원)        983690 non-null  float64\n",
      " 9   총거래량(kg)      983690 non-null  float64\n",
      " 10  평균단가(원)       983690 non-null  float64\n",
      " 11  주간평균단가(원)     983690 non-null  float64\n",
      " 12  직팜산지코드        983690 non-null  int64  \n",
      " 13  휴일여부          0 non-null       float64\n",
      " 14  명절지수          0 non-null       float64\n",
      " 15  작기정보          0 non-null       float64\n",
      " 16  일평균기온         981380 non-null  float64\n",
      " 17  최고기온          981380 non-null  float64\n",
      " 18  최저기온          981380 non-null  float64\n",
      " 19  평균상대습도        981380 non-null  float64\n",
      " 20  강수량(mm)       981380 non-null  float64\n",
      " 21  1시간최고강수량(mm)  981380 non-null  float64\n",
      "dtypes: float64(13), int64(4), object(5)\n",
      "memory usage: 165.1+ MB\n"
     ]
    }
   ],
   "source": [
    "print(\"--- 기초 통계량 ---\")\n",
    "print(df.describe())\n",
    "print(\"--- 데이터 정보 ---\")\n",
    "df.info()"
   ]
  },
  {
   "cell_type": "code",
   "execution_count": 35,
   "metadata": {},
   "outputs": [
    {
     "name": "stdout",
     "output_type": "stream",
     "text": [
      "--- 결측치 확인 ---\n",
      "주차                   0\n",
      "연월일                  0\n",
      "품목코드                 0\n",
      "품목명                  0\n",
      "품종코드                 0\n",
      "품종명                  0\n",
      "등급코드                 0\n",
      "등급이름                 0\n",
      "총금액(원)               0\n",
      "총거래량(kg)             0\n",
      "평균단가(원)              0\n",
      "주간평균단가(원)            0\n",
      "직팜산지코드               0\n",
      "휴일여부            983690\n",
      "명절지수            983690\n",
      "작기정보            983690\n",
      "일평균기온             2310\n",
      "최고기온              2310\n",
      "최저기온              2310\n",
      "평균상대습도            2310\n",
      "강수량(mm)           2310\n",
      "1시간최고강수량(mm)      2310\n",
      "dtype: int64\n"
     ]
    }
   ],
   "source": [
    "print(\"--- 결측치 확인 ---\")\n",
    "print(df.isnull().sum())"
   ]
  },
  {
   "cell_type": "code",
   "execution_count": 36,
   "metadata": {},
   "outputs": [],
   "source": [
    "df['주차시작일'] = df['주차'].str.extract(r'^(\\d{4}-\\d{2}-\\d{2})')\n",
    "df['주차시작일'] = pd.to_datetime(df['주차시작일'], format='%Y-%m-%d', errors='coerce')\n",
    "\n",
    "iso = df['주차시작일'].dt.isocalendar()\n",
    "df['주차_연도'] = iso.year\n",
    "df['주차_번호'] = iso.week"
   ]
  },
  {
   "cell_type": "code",
   "execution_count": 37,
   "metadata": {},
   "outputs": [
    {
     "data": {
      "text/html": [
       "<div>\n",
       "<style scoped>\n",
       "    .dataframe tbody tr th:only-of-type {\n",
       "        vertical-align: middle;\n",
       "    }\n",
       "\n",
       "    .dataframe tbody tr th {\n",
       "        vertical-align: top;\n",
       "    }\n",
       "\n",
       "    .dataframe thead th {\n",
       "        text-align: right;\n",
       "    }\n",
       "</style>\n",
       "<table border=\"1\" class=\"dataframe\">\n",
       "  <thead>\n",
       "    <tr style=\"text-align: right;\">\n",
       "      <th></th>\n",
       "      <th>주차</th>\n",
       "      <th>주차시작일</th>\n",
       "      <th>주차_연도</th>\n",
       "      <th>주차_번호</th>\n",
       "    </tr>\n",
       "  </thead>\n",
       "  <tbody>\n",
       "    <tr>\n",
       "      <th>0</th>\n",
       "      <td>2018-01-01~2018-01-07</td>\n",
       "      <td>2018-01-01</td>\n",
       "      <td>2018</td>\n",
       "      <td>1</td>\n",
       "    </tr>\n",
       "    <tr>\n",
       "      <th>1</th>\n",
       "      <td>2018-01-01~2018-01-07</td>\n",
       "      <td>2018-01-01</td>\n",
       "      <td>2018</td>\n",
       "      <td>1</td>\n",
       "    </tr>\n",
       "    <tr>\n",
       "      <th>2</th>\n",
       "      <td>2018-01-01~2018-01-07</td>\n",
       "      <td>2018-01-01</td>\n",
       "      <td>2018</td>\n",
       "      <td>1</td>\n",
       "    </tr>\n",
       "    <tr>\n",
       "      <th>3</th>\n",
       "      <td>2018-01-01~2018-01-07</td>\n",
       "      <td>2018-01-01</td>\n",
       "      <td>2018</td>\n",
       "      <td>1</td>\n",
       "    </tr>\n",
       "    <tr>\n",
       "      <th>4</th>\n",
       "      <td>2018-01-01~2018-01-07</td>\n",
       "      <td>2018-01-01</td>\n",
       "      <td>2018</td>\n",
       "      <td>1</td>\n",
       "    </tr>\n",
       "  </tbody>\n",
       "</table>\n",
       "</div>"
      ],
      "text/plain": [
       "                      주차      주차시작일  주차_연도  주차_번호\n",
       "0  2018-01-01~2018-01-07 2018-01-01   2018      1\n",
       "1  2018-01-01~2018-01-07 2018-01-01   2018      1\n",
       "2  2018-01-01~2018-01-07 2018-01-01   2018      1\n",
       "3  2018-01-01~2018-01-07 2018-01-01   2018      1\n",
       "4  2018-01-01~2018-01-07 2018-01-01   2018      1"
      ]
     },
     "execution_count": 37,
     "metadata": {},
     "output_type": "execute_result"
    }
   ],
   "source": [
    "df[['주차', '주차시작일', '주차_연도', '주차_번호']].head()"
   ]
  },
  {
   "cell_type": "code",
   "execution_count": 45,
   "metadata": {},
   "outputs": [],
   "source": [
    "from datetime import date\n",
    "\n",
    "def get_weeks_in_year(year):\n",
    "    return date(year, 12, 28).isocalendar()[1]\n",
    "\n",
    "summary = []\n",
    "\n",
    "for crop in df['품목명'].unique():\n",
    "    df_crop = df[df['품목명'] == crop].copy()\n",
    "\n",
    "    df_crop = df_crop[(df_crop['주차_연도'] >= 2018) & (df_crop['주차_연도'] <= 2024)]\n",
    "\n",
    "    actual_weeks = set(zip(df_crop['주차_연도'], df_crop['주차_번호']))\n",
    "\n",
    "    expected_weeks = set()\n",
    "        for w in range(1, get_weeks_in_year(y) + 1):\n",
    "            expected_weeks.add((y, w))\n",
    "\n",
    "    missing_weeks = sorted(list(expected_weeks - actual_weeks))\n",
    "\n",
    "    null_rows = df_crop.isnull().any(axis=1).sum()\n",
    "    outlier_rows = df_crop[\n",
    "        (df_crop['평균단가(원)'] > 6000) | (df_crop['평균단가(원)'] <= 0)\n",
    "    ].shape[0]\n",
    "\n",
    "    summary.append({\n",
    "        '품목명': crop,\n",
    "        '존재_연도범위': \"2018~2024\",  # 🔒 고정\n",
    "        '예상_주차수': len(expected_weeks),\n",
    "        '실제_주차수': len(actual_weeks),\n",
    "        '누락_주차수': len(missing_weeks),\n",
    "        '결측치_행수': null_rows,\n",
    "        '단가_이상치_행수': outlier_rows,\n",
    "        '누락_주차': missing_weeks\n",
    "    })\n",
    "\n",
    "df_summary = pd.DataFrame(summary)"
   ]
  },
  {
   "cell_type": "code",
   "execution_count": 46,
   "metadata": {},
   "outputs": [
    {
     "data": {
      "text/html": [
       "<div>\n",
       "<style scoped>\n",
       "    .dataframe tbody tr th:only-of-type {\n",
       "        vertical-align: middle;\n",
       "    }\n",
       "\n",
       "    .dataframe tbody tr th {\n",
       "        vertical-align: top;\n",
       "    }\n",
       "\n",
       "    .dataframe thead th {\n",
       "        text-align: right;\n",
       "    }\n",
       "</style>\n",
       "<table border=\"1\" class=\"dataframe\">\n",
       "  <thead>\n",
       "    <tr style=\"text-align: right;\">\n",
       "      <th></th>\n",
       "      <th>품목명</th>\n",
       "      <th>예상_주차수</th>\n",
       "      <th>실제_주차수</th>\n",
       "      <th>누락_주차수</th>\n",
       "    </tr>\n",
       "  </thead>\n",
       "  <tbody>\n",
       "    <tr>\n",
       "      <th>0</th>\n",
       "      <td>배추</td>\n",
       "      <td>365</td>\n",
       "      <td>365</td>\n",
       "      <td>0</td>\n",
       "    </tr>\n",
       "  </tbody>\n",
       "</table>\n",
       "</div>"
      ],
      "text/plain": [
       "  품목명  예상_주차수  실제_주차수  누락_주차수\n",
       "0  배추     365     365       0"
      ]
     },
     "execution_count": 46,
     "metadata": {},
     "output_type": "execute_result"
    }
   ],
   "source": [
    "df_summary[['품목명', '예상_주차수', '실제_주차수', '누락_주차수']]"
   ]
  },
  {
   "cell_type": "code",
   "execution_count": 47,
   "metadata": {},
   "outputs": [
    {
     "data": {
      "text/plain": [
       "0"
      ]
     },
     "execution_count": 47,
     "metadata": {},
     "output_type": "execute_result"
    }
   ],
   "source": [
    "len(missing_weeks)"
   ]
  },
  {
   "cell_type": "code",
   "execution_count": 48,
   "metadata": {},
   "outputs": [],
   "source": [
    "def format_weeks(week_list):\n",
    "    return [f\"{y}년도 {w}주차\" for (y, w) in week_list]\n",
    "\n",
    "summary = []\n",
    "\n",
    "for crop in df['품목명'].unique():\n",
    "    df_crop = df[df['품목명'] == crop].copy()\n",
    "\n",
    "    is_outlier = (df_crop['평균단가(원)'] > 6000) | (df_crop['평균단가(원)'] <= 0)\n",
    "    df_outlier = df_crop[is_outlier]\n",
    "\n",
    "    outlier_weeks = sorted(set(zip(df_outlier['주차_연도'], df_outlier['주차_번호'])))\n",
    "    outlier_weeks_str = format_weeks(outlier_weeks)\n",
    "\n",
    "    summary.append({\n",
    "        '품목명': crop,\n",
    "        '이상치_주차수': len(outlier_weeks),\n",
    "        '이상치_주차': outlier_weeks_str\n",
    "    })\n",
    "\n",
    "df_outlier_summary = pd.DataFrame(summary)"
   ]
  },
  {
   "cell_type": "code",
   "execution_count": 44,
   "metadata": {},
   "outputs": [
    {
     "data": {
      "text/html": [
       "<div>\n",
       "<style scoped>\n",
       "    .dataframe tbody tr th:only-of-type {\n",
       "        vertical-align: middle;\n",
       "    }\n",
       "\n",
       "    .dataframe tbody tr th {\n",
       "        vertical-align: top;\n",
       "    }\n",
       "\n",
       "    .dataframe thead th {\n",
       "        text-align: right;\n",
       "    }\n",
       "</style>\n",
       "<table border=\"1\" class=\"dataframe\">\n",
       "  <thead>\n",
       "    <tr style=\"text-align: right;\">\n",
       "      <th></th>\n",
       "      <th>품목명</th>\n",
       "      <th>이상치_주차수</th>\n",
       "    </tr>\n",
       "  </thead>\n",
       "  <tbody>\n",
       "    <tr>\n",
       "      <th>0</th>\n",
       "      <td>배추</td>\n",
       "      <td>147</td>\n",
       "    </tr>\n",
       "  </tbody>\n",
       "</table>\n",
       "</div>"
      ],
      "text/plain": [
       "  품목명  이상치_주차수\n",
       "0  배추      147"
      ]
     },
     "execution_count": 44,
     "metadata": {},
     "output_type": "execute_result"
    }
   ],
   "source": [
    "df_outlier_summary[['품목명', '이상치_주차수']]"
   ]
  },
  {
   "cell_type": "code",
   "execution_count": null,
   "metadata": {},
   "outputs": [],
   "source": []
  }
 ],
 "metadata": {
  "kernelspec": {
   "display_name": "jikfam",
   "language": "python",
   "name": "python3"
  },
  "language_info": {
   "codemirror_mode": {
    "name": "ipython",
    "version": 3
   },
   "file_extension": ".py",
   "mimetype": "text/x-python",
   "name": "python",
   "nbconvert_exporter": "python",
   "pygments_lexer": "ipython3",
   "version": "3.10.18"
  }
 },
 "nbformat": 4,
 "nbformat_minor": 4
}
