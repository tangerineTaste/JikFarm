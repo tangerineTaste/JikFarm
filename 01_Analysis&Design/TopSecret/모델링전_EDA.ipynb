{
 "cells": [
  {
   "cell_type": "code",
   "execution_count": null,
   "id": "98e9b9a5",
   "metadata": {},
   "outputs": [],
   "source": [
    "import pandas as pd\n",
    "\n",
    "crop = \"무\"  # 작물 이름 변경\n",
    "# df = pd.read_csv(f\"../data/{crop}_lag_인코딩스케일링완료.csv\", encoding='cp949')\n",
    "df = pd.read_csv(f\"../data/{crop}(EDA용)_스케일링만.csv\", encoding='cp949')"
   ]
  },
  {
   "cell_type": "code",
   "execution_count": 15,
   "id": "705a51d7",
   "metadata": {},
   "outputs": [
    {
     "name": "stdout",
     "output_type": "stream",
     "text": [
      "결측치 없음!\n"
     ]
    }
   ],
   "source": [
    "# 결측치 확인\n",
    "missing_counts = df.isnull().sum()\n",
    "missing_cols = missing_counts[missing_counts > 0]\n",
    "\n",
    "# 출력\n",
    "if missing_cols.empty:\n",
    "    print(\"결측치 없음!\")\n",
    "else:\n",
    "    print(\"결측치 있는 컬럼:\")\n",
    "    print(missing_cols)\n"
   ]
  },
  {
   "cell_type": "code",
   "execution_count": 16,
   "id": "a38a5c01",
   "metadata": {},
   "outputs": [],
   "source": [
    "import matplotlib.pyplot as plt\n",
    "import matplotlib.font_manager as fm\n",
    "plt.rc('font', family='Malgun Gothic')\n",
    "plt.rcParams['axes.unicode_minus'] = False"
   ]
  },
  {
   "cell_type": "code",
   "execution_count": 17,
   "id": "9b7f95a9",
   "metadata": {},
   "outputs": [
    {
     "data": {
      "image/png": "[encoded data removed]",
      "text/plain": [
       "<Figure size 800x400 with 1 Axes>"
      ]
     },
     "metadata": {},
     "output_type": "display_data"
    }
   ],
   "source": [
    "import matplotlib.pyplot as plt\n",
    "\n",
    "plt.figure(figsize=(8, 4))\n",
    "plt.hist(df['평균단가(원)'], bins=50, edgecolor='k')\n",
    "plt.title(\"Target Distribution: 평균단가(원)\")\n",
    "plt.xlabel(\"가격\")\n",
    "plt.ylabel(\"빈도수\")\n",
    "plt.grid(True)\n",
    "plt.show()\n"
   ]
  },
  {
   "cell_type": "code",
   "execution_count": 18,
   "id": "80db0e74",
   "metadata": {},
   "outputs": [
    {
     "name": "stdout",
     "output_type": "stream",
     "text": [
      "📊 평균단가와 상관관계가 높은 변수 Top 10:\n",
      "year         0.220422\n",
      "최저기온_t-3     0.148309\n",
      "최저기온_t-4     0.146637\n",
      "일평균기온_t-4    0.141868\n",
      "일평균기온_t-3    0.139206\n",
      "최고기온_t-4     0.135023\n",
      "최저기온_t-2     0.132220\n",
      "최고기온_t-3     0.131527\n",
      "일평균기온_t-2    0.126960\n",
      "최고기온_t-2     0.124319\n",
      "Name: 평균단가(원), dtype: float64\n"
     ]
    }
   ],
   "source": [
    "correlations = df.corr(numeric_only=True)['평균단가(원)'].sort_values(ascending=False)\n",
    "print(\"📊 평균단가와 상관관계가 높은 변수 Top 10:\")\n",
    "print(correlations.drop('평균단가(원)').head(10))\n"
   ]
  },
  {
   "cell_type": "code",
   "execution_count": null,
   "id": "a2fda3c9",
   "metadata": {},
   "outputs": [],
   "source": []
  },
  {
   "cell_type": "code",
   "execution_count": null,
   "id": "2c98f0f1",
   "metadata": {},
   "outputs": [],
   "source": []
  },
  {
   "cell_type": "code",
   "execution_count": null,
   "id": "4bbc88be",
   "metadata": {},
   "outputs": [],
   "source": []
  },
  {
   "cell_type": "code",
   "execution_count": null,
   "id": "38a2c391",
   "metadata": {},
   "outputs": [],
   "source": []
  },
  {
   "cell_type": "code",
   "execution_count": null,
   "id": "129baa35",
   "metadata": {},
   "outputs": [],
   "source": []
  },
  {
   "cell_type": "code",
   "execution_count": null,
   "id": "5377f3c5",
   "metadata": {},
   "outputs": [],
   "source": []
  },
  {
   "cell_type": "code",
   "execution_count": null,
   "id": "a7f3bcc5",
   "metadata": {},
   "outputs": [],
   "source": []
  },
  {
   "cell_type": "code",
   "execution_count": null,
   "id": "d17bff5c",
   "metadata": {},
   "outputs": [],
   "source": []
  },
  {
   "cell_type": "code",
   "execution_count": null,
   "id": "8927fb54",
   "metadata": {},
   "outputs": [],
   "source": []
  }
 ],
 "metadata": {
  "kernelspec": {
   "display_name": "jikfam",
   "language": "python",
   "name": "python3"
  },
  "language_info": {
   "codemirror_mode": {
    "name": "ipython",
    "version": 3
   },
   "file_extension": ".py",
   "mimetype": "text/x-python",
   "name": "python",
   "nbconvert_exporter": "python",
   "pygments_lexer": "ipython3",
   "version": "3.10.18"
  }
 },
 "nbformat": 4,
 "nbformat_minor": 5
}
