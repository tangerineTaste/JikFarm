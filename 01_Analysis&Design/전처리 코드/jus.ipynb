{
 "cells": [
  {
   "cell_type": "code",
   "execution_count": 44,
   "id": "c03201d5",
   "metadata": {},
   "outputs": [],
   "source": [
    "import pandas as pd"
   ]
  },
  {
   "cell_type": "code",
   "execution_count": 45,
   "id": "a8d926bd",
   "metadata": {},
   "outputs": [],
   "source": [
    "df = pd.read_csv('표준코드_산지코드.csv', encoding='cp949')\n",
    "df.sort_values(by='plor_nm', inplace=True)\n",
    "df.reset_index(drop=True, inplace=True)"
   ]
  },
  {
   "cell_type": "code",
   "execution_count": 46,
   "id": "079b172f",
   "metadata": {},
   "outputs": [],
   "source": [
    "df['도'] = pd.Series([i.split(' ')[0] for i in df.get('plor_nm')])\n",
    "df.to_csv('표준코드_산지코드_도.csv', encoding='utf-8', index=False)"
   ]
  },
  {
   "cell_type": "code",
   "execution_count": 52,
   "id": "8602bdf4",
   "metadata": {},
   "outputs": [],
   "source": [
    "df = pd.read_csv('표준코드_산지코드_도.csv', encoding='utf-8')\n",
    "df.sort_values(by=['도', 'plor_cd'], inplace=True)\n",
    "df.to_csv('표준코드_산지코드_도_sort.csv', encoding='utf-8', index=False)"
   ]
  }
 ],
 "metadata": {
  "kernelspec": {
   "display_name": "ml-dl-nlp",
   "language": "python",
   "name": "python3"
  },
  "language_info": {
   "codemirror_mode": {
    "name": "ipython",
    "version": 3
   },
   "file_extension": ".py",
   "mimetype": "text/x-python",
   "name": "python",
   "nbconvert_exporter": "python",
   "pygments_lexer": "ipython3",
   "version": "3.10.18"
  }
 },
 "nbformat": 4,
 "nbformat_minor": 5
}
