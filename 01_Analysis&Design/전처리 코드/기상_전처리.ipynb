{
 "cells": [
  {
   "cell_type": "code",
   "execution_count": 8,
   "id": "240189f3",
   "metadata": {},
   "outputs": [
    {
     "name": "stdout",
     "output_type": "stream",
     "text": [
      "    도명      지점명        지점코드        관측일자  기온(°C)  강수량(mm)  상대습도(%)\n",
      "0  경기도  가평군 가평읍  477802A001  2018-01-01    -4.2      0.0     62.0\n",
      "1  경기도  가평군 가평읍  477802A001  2018-01-02    -4.0      0.0     58.1\n",
      "2  경기도  가평군 가평읍  477802A001  2018-01-03    -5.6      0.0     58.2\n",
      "3  경기도  가평군 가평읍  477802A001  2018-01-04    -6.3      0.0     68.3\n",
      "4  경기도  가평군 가평읍  477802A001  2018-01-05    -4.6      0.0     68.7\n"
     ]
    }
   ],
   "source": [
    "import pandas as pd\n",
    "\n",
    "# 파일 불러오기\n",
    "obsr_df = pd.read_csv(\"기상/농업기상데이터_2018_2025.csv\")\n",
    "spot_info_df = pd.read_csv(\"기상/RDA_SPOT_INFO.csv\")\n",
    "\n",
    "# 지점명 병합\n",
    "merged_df = obsr_df.merge(\n",
    "    spot_info_df[['지점코드', '지점명']],\n",
    "    how='left',\n",
    "    left_on='obsr_Spot_Code',\n",
    "    right_on='지점코드'\n",
    ")\n",
    "\n",
    "# 컬럼 순서 조정\n",
    "merged_df = merged_df[['province', '지점명', 'obsr_Spot_Code', 'date', 'temp', 'rain', 'hum']]\n",
    "\n",
    "# 컬럼명 RDA_SPOT_INFO 형식에 맞게 한글로 변경\n",
    "merged_df.columns = ['도명', '지점명', '지점코드', '관측일자', '기온(°C)', '강수량(mm)', '상대습도(%)']\n",
    "\n",
    "# 결과 저장 (옵션)\n",
    "merged_df.to_csv(\"기상/농업기상데이터_지점명포함_컬럼정리.csv\", index=False, encoding='cp949')\n",
    "\n",
    "# 결과 확인\n",
    "print(merged_df.head())"
   ]
  },
  {
   "cell_type": "code",
   "execution_count": null,
   "id": "fe0fbe6f",
   "metadata": {},
   "outputs": [],
   "source": []
  }
 ],
 "metadata": {
  "kernelspec": {
   "display_name": "ml-dl-nlp",
   "language": "python",
   "name": "ml-dl-nlp"
  },
  "language_info": {
   "codemirror_mode": {
    "name": "ipython",
    "version": 3
   },
   "file_extension": ".py",
   "mimetype": "text/x-python",
   "name": "python",
   "nbconvert_exporter": "python",
   "pygments_lexer": "ipython3",
   "version": "3.10.18"
  },
  "toc": {
   "base_numbering": 1,
   "nav_menu": {},
   "number_sections": false,
   "sideBar": true,
   "skip_h1_title": false,
   "title_cell": "Table of Contents",
   "title_sidebar": "Contents",
   "toc_cell": false,
   "toc_position": {},
   "toc_section_display": true,
   "toc_window_display": false
  }
 },
 "nbformat": 4,
 "nbformat_minor": 5
}
