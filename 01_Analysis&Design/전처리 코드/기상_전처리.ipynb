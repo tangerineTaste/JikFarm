{
 "cells": [
  {
   "cell_type": "code",
   "execution_count": 6,
   "id": "ff25085e",
   "metadata": {},
   "outputs": [],
   "source": [
    "import pandas as pd\n",
    "\n",
    "# CSV 파일 읽기\n",
    "df_target = pd.read_csv(\"표준코드/산지코드_직팜.csv\", encoding='cp949')\n",
    "df_source = pd.read_csv(\"기상/산지코드_직팜_new.csv\", encoding='cp949')\n",
    "\n",
    "# 위도/경도가 없을 경우를 대비해 컬럼이 없으면 생성\n",
    "if '위도' not in df_target.columns:\n",
    "    df_target['위도'] = None\n",
    "if '경도' not in df_target.columns:\n",
    "    df_target['경도'] = None\n",
    "\n",
    "# 중복 제거 후 참조 딕셔너리 생성\n",
    "coord_dict = df_source.drop_duplicates(subset='직팜산지이름') \\\n",
    "                      .set_index('직팜산지이름')[['위도', '경도']] \\\n",
    "                      .to_dict('index')\n",
    "\n",
    "# 반복문으로 값 채우기 (이미 채워진 경우는 건너뜀)\n",
    "for idx, row in df_target.iterrows():\n",
    "    # 이미 위도/경도가 있으면 스킵\n",
    "    if pd.notnull(row['위도']) and pd.notnull(row['경도']):\n",
    "        continue\n",
    "\n",
    "    name = row['직팜산지이름']\n",
    "    if name in coord_dict:\n",
    "        df_target.at[idx, '위도'] = coord_dict[name]['위도']\n",
    "        df_target.at[idx, '경도'] = coord_dict[name]['경도']\n",
    "\n",
    "# 결과 저장\n",
    "df_target.to_csv(\"기상/산지코드_직팜_위경도_병합완료.csv\", index=False, encoding='cp949')"
   ]
  },
  {
   "cell_type": "code",
   "execution_count": null,
   "id": "693188ce",
   "metadata": {},
   "outputs": [],
   "source": []
  }
 ],
 "metadata": {
  "kernelspec": {
   "display_name": "ml-dl-nlp",
   "language": "python",
   "name": "ml-dl-nlp"
  },
  "language_info": {
   "codemirror_mode": {
    "name": "ipython",
    "version": 3
   },
   "file_extension": ".py",
   "mimetype": "text/x-python",
   "name": "python",
   "nbconvert_exporter": "python",
   "pygments_lexer": "ipython3",
   "version": "3.10.18"
  },
  "toc": {
   "base_numbering": 1,
   "nav_menu": {},
   "number_sections": false,
   "sideBar": true,
   "skip_h1_title": false,
   "title_cell": "Table of Contents",
   "title_sidebar": "Contents",
   "toc_cell": false,
   "toc_position": {},
   "toc_section_display": true,
   "toc_window_display": false
  }
 },
 "nbformat": 4,
 "nbformat_minor": 5
}
