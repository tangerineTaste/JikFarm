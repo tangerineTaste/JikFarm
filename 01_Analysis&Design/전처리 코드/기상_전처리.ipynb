{
 "cells": [
  {
   "cell_type": "code",
   "execution_count": 6,
   "id": "75fd434c",
   "metadata": {},
   "outputs": [
    {
     "name": "stdout",
     "output_type": "stream",
     "text": [
      "    SIG_KOR_NM           X          Y\n",
      "0          가평군  127.450192  37.818433\n",
      "1          강남구  127.062985  37.496644\n",
      "2          강동구  127.147012  37.550450\n",
      "3          강릉시  128.832379  37.709102\n",
      "4          강북구  127.011189  37.643474\n",
      "..         ...         ...        ...\n",
      "199        홍천군  128.074261  37.745049\n",
      "200        화성시  126.874858  37.165237\n",
      "201        화순군  127.033434  35.008186\n",
      "202        화천군  127.685166  38.138426\n",
      "203        횡성군  128.077067  37.509142\n",
      "\n",
      "[204 rows x 3 columns]\n"
     ]
    }
   ],
   "source": [
    "import pandas as pd\n",
    "import re\n",
    "\n",
    "# CSV 파일 읽기\n",
    "file_path = \"기상/대한민국_기초자치단체_중심점_2017.csv\"\n",
    "df = pd.read_csv(file_path, encoding='cp949')\n",
    "\n",
    "# 시/군 단위만 추출하는 함수 (예: '용인시기흥구' → '용인시')\n",
    "def extract_city(sig_name):\n",
    "    match = re.match(r'^(.*?[시군])', sig_name)\n",
    "    return match.group(1) if match else sig_name\n",
    "\n",
    "# 새로운 컬럼에 시/군 이름 저장\n",
    "df['시군'] = df['SIG_KOR_NM'].apply(extract_city)\n",
    "\n",
    "# 시군 기준으로 위도/경도 평균 구하고 이름도 해당 시군 이름으로 설정\n",
    "avg_coords = df.groupby('시군')[['X', 'Y']].mean().reset_index()\n",
    "\n",
    "# 결과를 SIG_KOR_NM 형식으로 맞추기 위해 컬럼 이름 변경\n",
    "avg_coords = avg_coords.rename(columns={'시군': 'SIG_KOR_NM'})\n",
    "\n",
    "# 최종 결과 확인 또는 저장\n",
    "print(avg_coords)\n",
    "avg_coords.to_csv(\"기상/시군_단위_평균_좌표.csv\", index=False, encoding='cp949')"
   ]
  },
  {
   "cell_type": "code",
   "execution_count": 7,
   "id": "04203878",
   "metadata": {},
   "outputs": [
    {
     "name": "stdout",
     "output_type": "stream",
     "text": [
      "    지역          경도         위도\n",
      "0  가평군  127.450192  37.818433\n",
      "1  강남구  127.062985  37.496644\n",
      "2  강동구  127.147012  37.550450\n",
      "3  강릉시  128.832379  37.709102\n",
      "4  강북구  127.011189  37.643474\n"
     ]
    }
   ],
   "source": [
    "import pandas as pd\n",
    "\n",
    "# 파일 경로\n",
    "metro_path = \"기상/대한민국_광역자치단체_중심점_2017.csv\"\n",
    "siggun_path = \"기상/시군_단위_평균_좌표.csv\"\n",
    "\n",
    "# 파일 읽기 (한글 인코딩)\n",
    "df_metro = pd.read_csv(metro_path, encoding='cp949')\n",
    "df_siggun = pd.read_csv(siggun_path, encoding='cp949')\n",
    "\n",
    "# 광역자치단체: 컬럼명 변경 및 재정렬\n",
    "df_metro = df_metro.rename(columns={\"CTP_KOR_NM\": \"지역\"})\n",
    "df_metro = df_metro[[\"지역\", \"X\", \"Y\"]]\n",
    "\n",
    "# 기초자치단체: 컬럼명 변경\n",
    "df_siggun = df_siggun.rename(columns={\"SIG_KOR_NM\": \"지역\"})\n",
    "\n",
    "# 두 데이터프레임 병합\n",
    "df_combined = pd.concat([df_siggun, df_metro], ignore_index=True)\n",
    "\n",
    "# 최종 컬럼명 변경\n",
    "df_combined = df_combined.rename(columns={\"X\": \"경도\", \"Y\": \"위도\"})\n",
    "\n",
    "# 결과 확인\n",
    "print(df_combined.head())\n",
    "\n",
    "# CSV로 저장 (선택)\n",
    "df_combined.to_csv(\"기상/전국_자치단체_중심좌표.csv\", index=False, encoding='cp949')"
   ]
  },
  {
   "cell_type": "code",
   "execution_count": null,
   "id": "240189f3",
   "metadata": {},
   "outputs": [],
   "source": []
  }
 ],
 "metadata": {
  "kernelspec": {
   "display_name": "ml-dl-nlp",
   "language": "python",
   "name": "ml-dl-nlp"
  },
  "language_info": {
   "codemirror_mode": {
    "name": "ipython",
    "version": 3
   },
   "file_extension": ".py",
   "mimetype": "text/x-python",
   "name": "python",
   "nbconvert_exporter": "python",
   "pygments_lexer": "ipython3",
   "version": "3.10.18"
  },
  "toc": {
   "base_numbering": 1,
   "nav_menu": {},
   "number_sections": false,
   "sideBar": true,
   "skip_h1_title": false,
   "title_cell": "Table of Contents",
   "title_sidebar": "Contents",
   "toc_cell": false,
   "toc_position": {},
   "toc_section_display": true,
   "toc_window_display": false
  }
 },
 "nbformat": 4,
 "nbformat_minor": 5
}
