{
 "cells": [
  {
   "cell_type": "code",
   "execution_count": 7,
   "id": "14ca4982",
   "metadata": {},
   "outputs": [
    {
     "ename": "JSONDecodeError",
     "evalue": "Expecting value: line 1 column 1 (char 0)",
     "output_type": "error",
     "traceback": [
      "\u001b[1;31m---------------------------------------------------------------------------\u001b[0m",
      "\u001b[1;31mJSONDecodeError\u001b[0m                           Traceback (most recent call last)",
      "File \u001b[1;32mc:\\Users\\Admin\\anaconda3\\envs\\jikfam\\lib\\site-packages\\requests\\models.py:976\u001b[0m, in \u001b[0;36mResponse.json\u001b[1;34m(self, **kwargs)\u001b[0m\n\u001b[0;32m    975\u001b[0m \u001b[38;5;28;01mtry\u001b[39;00m:\n\u001b[1;32m--> 976\u001b[0m     \u001b[38;5;28;01mreturn\u001b[39;00m complexjson\u001b[38;5;241m.\u001b[39mloads(\u001b[38;5;28mself\u001b[39m\u001b[38;5;241m.\u001b[39mtext, \u001b[38;5;241m*\u001b[39m\u001b[38;5;241m*\u001b[39mkwargs)\n\u001b[0;32m    977\u001b[0m \u001b[38;5;28;01mexcept\u001b[39;00m JSONDecodeError \u001b[38;5;28;01mas\u001b[39;00m e:\n\u001b[0;32m    978\u001b[0m     \u001b[38;5;66;03m# Catch JSON-related errors and raise as requests.JSONDecodeError\u001b[39;00m\n\u001b[0;32m    979\u001b[0m     \u001b[38;5;66;03m# This aliases json.JSONDecodeError and simplejson.JSONDecodeError\u001b[39;00m\n",
      "File \u001b[1;32mc:\\Users\\Admin\\anaconda3\\envs\\jikfam\\lib\\json\\__init__.py:346\u001b[0m, in \u001b[0;36mloads\u001b[1;34m(s, cls, object_hook, parse_float, parse_int, parse_constant, object_pairs_hook, **kw)\u001b[0m\n\u001b[0;32m    343\u001b[0m \u001b[38;5;28;01mif\u001b[39;00m (\u001b[38;5;28mcls\u001b[39m \u001b[38;5;129;01mis\u001b[39;00m \u001b[38;5;28;01mNone\u001b[39;00m \u001b[38;5;129;01mand\u001b[39;00m object_hook \u001b[38;5;129;01mis\u001b[39;00m \u001b[38;5;28;01mNone\u001b[39;00m \u001b[38;5;129;01mand\u001b[39;00m\n\u001b[0;32m    344\u001b[0m         parse_int \u001b[38;5;129;01mis\u001b[39;00m \u001b[38;5;28;01mNone\u001b[39;00m \u001b[38;5;129;01mand\u001b[39;00m parse_float \u001b[38;5;129;01mis\u001b[39;00m \u001b[38;5;28;01mNone\u001b[39;00m \u001b[38;5;129;01mand\u001b[39;00m\n\u001b[0;32m    345\u001b[0m         parse_constant \u001b[38;5;129;01mis\u001b[39;00m \u001b[38;5;28;01mNone\u001b[39;00m \u001b[38;5;129;01mand\u001b[39;00m object_pairs_hook \u001b[38;5;129;01mis\u001b[39;00m \u001b[38;5;28;01mNone\u001b[39;00m \u001b[38;5;129;01mand\u001b[39;00m \u001b[38;5;129;01mnot\u001b[39;00m kw):\n\u001b[1;32m--> 346\u001b[0m     \u001b[38;5;28;01mreturn\u001b[39;00m \u001b[43m_default_decoder\u001b[49m\u001b[38;5;241;43m.\u001b[39;49m\u001b[43mdecode\u001b[49m\u001b[43m(\u001b[49m\u001b[43ms\u001b[49m\u001b[43m)\u001b[49m\n\u001b[0;32m    347\u001b[0m \u001b[38;5;28;01mif\u001b[39;00m \u001b[38;5;28mcls\u001b[39m \u001b[38;5;129;01mis\u001b[39;00m \u001b[38;5;28;01mNone\u001b[39;00m:\n",
      "File \u001b[1;32mc:\\Users\\Admin\\anaconda3\\envs\\jikfam\\lib\\json\\decoder.py:337\u001b[0m, in \u001b[0;36mJSONDecoder.decode\u001b[1;34m(self, s, _w)\u001b[0m\n\u001b[0;32m    333\u001b[0m \u001b[38;5;250m\u001b[39m\u001b[38;5;124;03m\"\"\"Return the Python representation of ``s`` (a ``str`` instance\u001b[39;00m\n\u001b[0;32m    334\u001b[0m \u001b[38;5;124;03mcontaining a JSON document).\u001b[39;00m\n\u001b[0;32m    335\u001b[0m \n\u001b[0;32m    336\u001b[0m \u001b[38;5;124;03m\"\"\"\u001b[39;00m\n\u001b[1;32m--> 337\u001b[0m obj, end \u001b[38;5;241m=\u001b[39m \u001b[38;5;28;43mself\u001b[39;49m\u001b[38;5;241;43m.\u001b[39;49m\u001b[43mraw_decode\u001b[49m\u001b[43m(\u001b[49m\u001b[43ms\u001b[49m\u001b[43m,\u001b[49m\u001b[43m \u001b[49m\u001b[43midx\u001b[49m\u001b[38;5;241;43m=\u001b[39;49m\u001b[43m_w\u001b[49m\u001b[43m(\u001b[49m\u001b[43ms\u001b[49m\u001b[43m,\u001b[49m\u001b[43m \u001b[49m\u001b[38;5;241;43m0\u001b[39;49m\u001b[43m)\u001b[49m\u001b[38;5;241;43m.\u001b[39;49m\u001b[43mend\u001b[49m\u001b[43m(\u001b[49m\u001b[43m)\u001b[49m\u001b[43m)\u001b[49m\n\u001b[0;32m    338\u001b[0m end \u001b[38;5;241m=\u001b[39m _w(s, end)\u001b[38;5;241m.\u001b[39mend()\n",
      "File \u001b[1;32mc:\\Users\\Admin\\anaconda3\\envs\\jikfam\\lib\\json\\decoder.py:355\u001b[0m, in \u001b[0;36mJSONDecoder.raw_decode\u001b[1;34m(self, s, idx)\u001b[0m\n\u001b[0;32m    354\u001b[0m \u001b[38;5;28;01mexcept\u001b[39;00m \u001b[38;5;167;01mStopIteration\u001b[39;00m \u001b[38;5;28;01mas\u001b[39;00m err:\n\u001b[1;32m--> 355\u001b[0m     \u001b[38;5;28;01mraise\u001b[39;00m JSONDecodeError(\u001b[38;5;124m\"\u001b[39m\u001b[38;5;124mExpecting value\u001b[39m\u001b[38;5;124m\"\u001b[39m, s, err\u001b[38;5;241m.\u001b[39mvalue) \u001b[38;5;28;01mfrom\u001b[39;00m\u001b[38;5;250m \u001b[39m\u001b[38;5;28;01mNone\u001b[39;00m\n\u001b[0;32m    356\u001b[0m \u001b[38;5;28;01mreturn\u001b[39;00m obj, end\n",
      "\u001b[1;31mJSONDecodeError\u001b[0m: Expecting value: line 1 column 1 (char 0)",
      "\nDuring handling of the above exception, another exception occurred:\n",
      "\u001b[1;31mJSONDecodeError\u001b[0m                           Traceback (most recent call last)",
      "Cell \u001b[1;32mIn[7], line 16\u001b[0m\n\u001b[0;32m     13\u001b[0m response \u001b[38;5;241m=\u001b[39m requests\u001b[38;5;241m.\u001b[39mget(url)\n\u001b[0;32m     15\u001b[0m \u001b[38;5;66;03m# 응답을 JSON 형태로 변환\u001b[39;00m\n\u001b[1;32m---> 16\u001b[0m json_response \u001b[38;5;241m=\u001b[39m \u001b[43mresponse\u001b[49m\u001b[38;5;241;43m.\u001b[39;49m\u001b[43mjson\u001b[49m\u001b[43m(\u001b[49m\u001b[43m)\u001b[49m\n\u001b[0;32m     18\u001b[0m \u001b[38;5;28mprint\u001b[39m(json_response)\n",
      "File \u001b[1;32mc:\\Users\\Admin\\anaconda3\\envs\\jikfam\\lib\\site-packages\\requests\\models.py:980\u001b[0m, in \u001b[0;36mResponse.json\u001b[1;34m(self, **kwargs)\u001b[0m\n\u001b[0;32m    976\u001b[0m     \u001b[38;5;28;01mreturn\u001b[39;00m complexjson\u001b[38;5;241m.\u001b[39mloads(\u001b[38;5;28mself\u001b[39m\u001b[38;5;241m.\u001b[39mtext, \u001b[38;5;241m*\u001b[39m\u001b[38;5;241m*\u001b[39mkwargs)\n\u001b[0;32m    977\u001b[0m \u001b[38;5;28;01mexcept\u001b[39;00m JSONDecodeError \u001b[38;5;28;01mas\u001b[39;00m e:\n\u001b[0;32m    978\u001b[0m     \u001b[38;5;66;03m# Catch JSON-related errors and raise as requests.JSONDecodeError\u001b[39;00m\n\u001b[0;32m    979\u001b[0m     \u001b[38;5;66;03m# This aliases json.JSONDecodeError and simplejson.JSONDecodeError\u001b[39;00m\n\u001b[1;32m--> 980\u001b[0m     \u001b[38;5;28;01mraise\u001b[39;00m RequestsJSONDecodeError(e\u001b[38;5;241m.\u001b[39mmsg, e\u001b[38;5;241m.\u001b[39mdoc, e\u001b[38;5;241m.\u001b[39mpos)\n",
      "\u001b[1;31mJSONDecodeError\u001b[0m: Expecting value: line 1 column 1 (char 0)"
     ]
    }
   ],
   "source": [
    "import requests\n",
    "import json\n",
    "import os\n",
    "\n",
    "# 인증키를 환경 변수에서 가져옵니다.\n",
    "# 환경 변수에 'KMA_AUTH_KEY'라는 이름으로 인증키를 설정해야 합니다\n",
    "KMA_AUTH_KEY = os.getenv('KMA_AUTH_KEY')\n",
    "\n",
    "# URL 문자열\n",
    "url = 'https://apihub.kma.go.kr/api/typ01/url/kma_sfcdd3.php?tm1=20250501&tm2=20250531&obs=TA&stn=0&help=0&mode=0&authKey=SDgv0OYgTL64L9DmIHy-9g'\n",
    "\n",
    "# GET 요청\n",
    "response = requests.get(url)\n",
    "\n",
    "# 응답을 JSON 형태로 변환\n",
    "json_response = response.json()\n",
    "\n",
    "print(json_response)"
   ]
  },
  {
   "cell_type": "code",
   "execution_count": 15,
   "metadata": {},
   "outputs": [
    {
     "name": "stdout",
     "output_type": "stream",
     "text": [
      "✅ CSV 저장 완료!\n"
     ]
    }
   ],
   "source": [
    "import pandas as pd\n",
    "\n",
    "# URL\n",
    "url = 'https://apihub.kma.go.kr/api/typ01/url/kma_sfcdd3.php?tm1=20240501&tm2=20240531&obs=TA&stn=0&help=0&mode=1&authKey=SDgv0OYgTL64L9DmIHy-9g'\n",
    "\n",
    "# 첫 4줄 skip + header 없음 + python 엔진 + 문제행 skip\n",
    "df = pd.read_csv(\n",
    "    url,\n",
    "    encoding='euc-kr',\n",
    "    skiprows=4,\n",
    "    header=None,\n",
    "    delim_whitespace=True,\n",
    "    engine='python',\n",
    "    on_bad_lines='skip'  # 잘못된 줄 건너뜀\n",
    ")\n",
    "\n",
    "# 컬럼명 임시 지정\n",
    "df.columns = [\n",
    "    'YYMMDD', 'STN', 'WS', 'WR', 'WD', 'WS2', 'WS3', 'WD2', 'WS4', 'WS5',\n",
    "    'TA', 'TA2', 'TA3', 'TA4', 'TA5', 'TD', 'TS', 'TG', 'HM', 'HM2',\n",
    "    'HM3', 'PV', 'EVS', 'EVL', 'FG', 'PA', 'PS', 'PS2', 'PS3', 'PS4',\n",
    "    'TM5', 'PA2', 'TM6', 'HM4', 'HR1', 'HR2', 'HR3', 'MAX', 'TM7', 'MM2',\n",
    "    'MM3', 'HR4', 'MM4', 'TM8', 'MM5', 'TM9', 'MM6', 'TM10', 'CM',\n",
    "    'TM11', 'CM2', 'TM12', 'C6', 'C7', 'C8', 'C9', 'C10'\n",
    "][:df.shape[1]]  # 실제 컬럼 수에 맞게 자르기\n",
    "\n",
    "# 필요한 컬럼만 선택\n",
    "needed_columns = ['YYMMDD', 'STN', 'TA', 'HM']\n",
    "df_filtered = df[needed_columns].copy()\n",
    "\n",
    "# 컬럼명 변경\n",
    "df_filtered.rename(columns={\n",
    "    'YYMMDD': 'date',\n",
    "    'STN': 'station_code',\n",
    "    'TA': 'temperature',\n",
    "    'HM': 'humidity'\n",
    "}, inplace=True)\n",
    "\n",
    "# CSV로 저장\n",
    "df_filtered.to_csv('기상데이터_정리.csv', index=False, encoding='utf-8-sig')\n",
    "print(\"✅ CSV 저장 완료!\")\n"
   ]
  },
  {
   "cell_type": "code",
   "execution_count": 16,
   "id": "4fa17f27",
   "metadata": {},
   "outputs": [
    {
     "name": "stdout",
     "output_type": "stream",
     "text": [
      "#START7777\n",
      "#2345678901234567890123456789012345678901234567890123456789012345678901234567890123456789012345678901234567890123456789012345678901234567890123456789012345678901234567890123456789012345678901234567890123456789012345678901234567890123456789012345678901234567890123456789012345678901234567890123456789012345678901234567890123\n",
      "# YYMMDD STN   WS    WR  WD   WS   WS  WD   WS   WS    TA    TA   TA    TA   TA    TD    TS    TG    HM    HM   HM    PV  EV_S  EV_L    FG     PA     PS     PS   PS     PS   PS   CA   SS   SS   SS    SI    SI   SI     RN     RN    RN     RN   RN     RN   RN     RN   RN     SD   SD     SD   SD    TE    TE    TE    TE    TE\n",
      "#    KST  ID  AVG   DAY MAX  MAX  MAX INS  INS  INS   AVG   MAX  MAX   MIN  MIN   AVG   AVG   MIN   AVG   MIN  MIN   AVG               DUR    AVG    AVG    MAX  MAX    MIN  MIN  TOT  DAY  DUR  CMB   DAY   60M  60M    DAY    D99   DUR    60M  60M    10M  10M    POW  POW    NEW  NEW    MAX  MAX     5    10    15    30    50\n",
      "#             m/s\n"
     ]
    }
   ],
   "source": [
    "import requests\n",
    "\n",
    "url = 'https://apihub.kma.go.kr/api/typ01/url/kma_sfcdd3.php?tm1=20240501&tm2=20240531&obs=TA&stn=0&help=0&mode=1&authKey=SDgv0OYgTL64L9DmIHy-9g'\n",
    "res = requests.get(url)\n",
    "print(res.text[:1000])  # 처음 1000자 출력\n"
   ]
  },
  {
   "cell_type": "code",
   "execution_count": 18,
   "id": "f6b65c9a",
   "metadata": {},
   "outputs": [
    {
     "name": "stdout",
     "output_type": "stream",
     "text": [
      "Index(['20240501', '90', '2.5', '2160', '14', '5.3', '1736', '16', '7.7',\n",
      "       '1857', '12.5', '17.4', '1446', '8.3', '553', '7.4', '16.0', '5.9',\n",
      "       '72.6', '51.0', '1208', '10.3', '5.8', '4.0', '-9.00', '1012.6',\n",
      "       '1014.7', '1016.5', '2359', '1012.6.1', '238', '3.0', '12.5.1', '13.8',\n",
      "       '-9.0', '27.09', '3.36', '1100', '-9.0.1', '-9.0.2', '-9.00.1',\n",
      "       '-9.0.3', '-9', '-9.0.4', '-9.1', '-9.0.5', '-9.2', '-9.0.6', '-9.3',\n",
      "       '-9.0.7', '-9.4', '-99.0', '-99.0.1', '-99.0.2', '-99.0.3', '-99.0.4'],\n",
      "      dtype='object')\n",
      "   20240501   90  2.5  2160  14  5.3  1736  16  7.7  1857  ...  -9.2  -9.0.6  \\\n",
      "0  20240501   93  1.7  1426  11  4.2  1104  11  9.0  1048  ...    -9    -9.0   \n",
      "1  20240501   95  2.1  1829   2  4.2   218  34  7.5  1344  ...    -9    -9.0   \n",
      "2  20240501   98  1.0   861  32  2.1  1349   9  5.8   150  ...    -9    -9.0   \n",
      "3  20240501   99  1.7  1483   9  3.2   908   7  6.0   145  ...    -9    -9.0   \n",
      "4  20240501  100  1.9  1616   7  4.1  1200   7  8.2  1246  ...    -9    -9.0   \n",
      "\n",
      "   -9.3  -9.0.7  -9.4  -99.0  -99.0.1  -99.0.2  -99.0.3  -99.0.4  \n",
      "0    -9    -9.0    -9   17.5     15.6     13.5     11.1     11.3  \n",
      "1    -9    -9.0    -9  -99.0    -99.0    -99.0    -99.0    -99.0  \n",
      "2    -9    -9.0    -9  -99.0    -99.0    -99.0    -99.0    -99.0  \n",
      "3    -9    -9.0    -9  -99.0    -99.0    -99.0    -99.0    -99.0  \n",
      "4    -9    -9.0    -9  -99.0    -99.0    -99.0    -99.0    -99.0  \n",
      "\n",
      "[5 rows x 56 columns]\n"
     ]
    },
    {
     "ename": "KeyError",
     "evalue": "\"None of [Index(['YYMMDD', 'STN', 'TA', 'HM'], dtype='object')] are in the [columns]\"",
     "output_type": "error",
     "traceback": [
      "\u001b[1;31m---------------------------------------------------------------------------\u001b[0m",
      "\u001b[1;31mKeyError\u001b[0m                                  Traceback (most recent call last)",
      "Cell \u001b[1;32mIn[18], line 29\u001b[0m\n\u001b[0;32m     26\u001b[0m \u001b[38;5;66;03m# 필요한 컬럼만 선택 (컬럼명 확인 후 정확히 선택)\u001b[39;00m\n\u001b[0;32m     27\u001b[0m \u001b[38;5;66;03m# 예제용: ['YYMMDD', 'STN', 'TA', 'HM']\u001b[39;00m\n\u001b[0;32m     28\u001b[0m needed_columns \u001b[38;5;241m=\u001b[39m [\u001b[38;5;124m'\u001b[39m\u001b[38;5;124mYYMMDD\u001b[39m\u001b[38;5;124m'\u001b[39m, \u001b[38;5;124m'\u001b[39m\u001b[38;5;124mSTN\u001b[39m\u001b[38;5;124m'\u001b[39m, \u001b[38;5;124m'\u001b[39m\u001b[38;5;124mTA\u001b[39m\u001b[38;5;124m'\u001b[39m, \u001b[38;5;124m'\u001b[39m\u001b[38;5;124mHM\u001b[39m\u001b[38;5;124m'\u001b[39m]\n\u001b[1;32m---> 29\u001b[0m df_filtered \u001b[38;5;241m=\u001b[39m \u001b[43mdf\u001b[49m\u001b[43m[\u001b[49m\u001b[43mneeded_columns\u001b[49m\u001b[43m]\u001b[49m\u001b[38;5;241m.\u001b[39mcopy()\n\u001b[0;32m     31\u001b[0m \u001b[38;5;66;03m# 컬럼명 변경\u001b[39;00m\n\u001b[0;32m     32\u001b[0m df_filtered\u001b[38;5;241m.\u001b[39mrename(columns\u001b[38;5;241m=\u001b[39m{\n\u001b[0;32m     33\u001b[0m     \u001b[38;5;124m'\u001b[39m\u001b[38;5;124mYYMMDD\u001b[39m\u001b[38;5;124m'\u001b[39m: \u001b[38;5;124m'\u001b[39m\u001b[38;5;124mdate\u001b[39m\u001b[38;5;124m'\u001b[39m,\n\u001b[0;32m     34\u001b[0m     \u001b[38;5;124m'\u001b[39m\u001b[38;5;124mSTN\u001b[39m\u001b[38;5;124m'\u001b[39m: \u001b[38;5;124m'\u001b[39m\u001b[38;5;124mstation_code\u001b[39m\u001b[38;5;124m'\u001b[39m,\n\u001b[0;32m     35\u001b[0m     \u001b[38;5;124m'\u001b[39m\u001b[38;5;124mTA\u001b[39m\u001b[38;5;124m'\u001b[39m: \u001b[38;5;124m'\u001b[39m\u001b[38;5;124mtemperature\u001b[39m\u001b[38;5;124m'\u001b[39m,\n\u001b[0;32m     36\u001b[0m     \u001b[38;5;124m'\u001b[39m\u001b[38;5;124mHM\u001b[39m\u001b[38;5;124m'\u001b[39m: \u001b[38;5;124m'\u001b[39m\u001b[38;5;124mhumidity\u001b[39m\u001b[38;5;124m'\u001b[39m\n\u001b[0;32m     37\u001b[0m }, inplace\u001b[38;5;241m=\u001b[39m\u001b[38;5;28;01mTrue\u001b[39;00m)\n",
      "File \u001b[1;32mc:\\Users\\Admin\\anaconda3\\envs\\jikfam\\lib\\site-packages\\pandas\\core\\frame.py:3813\u001b[0m, in \u001b[0;36mDataFrame.__getitem__\u001b[1;34m(self, key)\u001b[0m\n\u001b[0;32m   3811\u001b[0m     \u001b[38;5;28;01mif\u001b[39;00m is_iterator(key):\n\u001b[0;32m   3812\u001b[0m         key \u001b[38;5;241m=\u001b[39m \u001b[38;5;28mlist\u001b[39m(key)\n\u001b[1;32m-> 3813\u001b[0m     indexer \u001b[38;5;241m=\u001b[39m \u001b[38;5;28;43mself\u001b[39;49m\u001b[38;5;241;43m.\u001b[39;49m\u001b[43mcolumns\u001b[49m\u001b[38;5;241;43m.\u001b[39;49m\u001b[43m_get_indexer_strict\u001b[49m\u001b[43m(\u001b[49m\u001b[43mkey\u001b[49m\u001b[43m,\u001b[49m\u001b[43m \u001b[49m\u001b[38;5;124;43m\"\u001b[39;49m\u001b[38;5;124;43mcolumns\u001b[39;49m\u001b[38;5;124;43m\"\u001b[39;49m\u001b[43m)\u001b[49m[\u001b[38;5;241m1\u001b[39m]\n\u001b[0;32m   3815\u001b[0m \u001b[38;5;66;03m# take() does not accept boolean indexers\u001b[39;00m\n\u001b[0;32m   3816\u001b[0m \u001b[38;5;28;01mif\u001b[39;00m \u001b[38;5;28mgetattr\u001b[39m(indexer, \u001b[38;5;124m\"\u001b[39m\u001b[38;5;124mdtype\u001b[39m\u001b[38;5;124m\"\u001b[39m, \u001b[38;5;28;01mNone\u001b[39;00m) \u001b[38;5;241m==\u001b[39m \u001b[38;5;28mbool\u001b[39m:\n",
      "File \u001b[1;32mc:\\Users\\Admin\\anaconda3\\envs\\jikfam\\lib\\site-packages\\pandas\\core\\indexes\\base.py:6070\u001b[0m, in \u001b[0;36mIndex._get_indexer_strict\u001b[1;34m(self, key, axis_name)\u001b[0m\n\u001b[0;32m   6067\u001b[0m \u001b[38;5;28;01melse\u001b[39;00m:\n\u001b[0;32m   6068\u001b[0m     keyarr, indexer, new_indexer \u001b[38;5;241m=\u001b[39m \u001b[38;5;28mself\u001b[39m\u001b[38;5;241m.\u001b[39m_reindex_non_unique(keyarr)\n\u001b[1;32m-> 6070\u001b[0m \u001b[38;5;28;43mself\u001b[39;49m\u001b[38;5;241;43m.\u001b[39;49m\u001b[43m_raise_if_missing\u001b[49m\u001b[43m(\u001b[49m\u001b[43mkeyarr\u001b[49m\u001b[43m,\u001b[49m\u001b[43m \u001b[49m\u001b[43mindexer\u001b[49m\u001b[43m,\u001b[49m\u001b[43m \u001b[49m\u001b[43maxis_name\u001b[49m\u001b[43m)\u001b[49m\n\u001b[0;32m   6072\u001b[0m keyarr \u001b[38;5;241m=\u001b[39m \u001b[38;5;28mself\u001b[39m\u001b[38;5;241m.\u001b[39mtake(indexer)\n\u001b[0;32m   6073\u001b[0m \u001b[38;5;28;01mif\u001b[39;00m \u001b[38;5;28misinstance\u001b[39m(key, Index):\n\u001b[0;32m   6074\u001b[0m     \u001b[38;5;66;03m# GH 42790 - Preserve name from an Index\u001b[39;00m\n",
      "File \u001b[1;32mc:\\Users\\Admin\\anaconda3\\envs\\jikfam\\lib\\site-packages\\pandas\\core\\indexes\\base.py:6130\u001b[0m, in \u001b[0;36mIndex._raise_if_missing\u001b[1;34m(self, key, indexer, axis_name)\u001b[0m\n\u001b[0;32m   6128\u001b[0m     \u001b[38;5;28;01mif\u001b[39;00m use_interval_msg:\n\u001b[0;32m   6129\u001b[0m         key \u001b[38;5;241m=\u001b[39m \u001b[38;5;28mlist\u001b[39m(key)\n\u001b[1;32m-> 6130\u001b[0m     \u001b[38;5;28;01mraise\u001b[39;00m \u001b[38;5;167;01mKeyError\u001b[39;00m(\u001b[38;5;124mf\u001b[39m\u001b[38;5;124m\"\u001b[39m\u001b[38;5;124mNone of [\u001b[39m\u001b[38;5;132;01m{\u001b[39;00mkey\u001b[38;5;132;01m}\u001b[39;00m\u001b[38;5;124m] are in the [\u001b[39m\u001b[38;5;132;01m{\u001b[39;00maxis_name\u001b[38;5;132;01m}\u001b[39;00m\u001b[38;5;124m]\u001b[39m\u001b[38;5;124m\"\u001b[39m)\n\u001b[0;32m   6132\u001b[0m not_found \u001b[38;5;241m=\u001b[39m \u001b[38;5;28mlist\u001b[39m(ensure_index(key)[missing_mask\u001b[38;5;241m.\u001b[39mnonzero()[\u001b[38;5;241m0\u001b[39m]]\u001b[38;5;241m.\u001b[39munique())\n\u001b[0;32m   6133\u001b[0m \u001b[38;5;28;01mraise\u001b[39;00m \u001b[38;5;167;01mKeyError\u001b[39;00m(\u001b[38;5;124mf\u001b[39m\u001b[38;5;124m\"\u001b[39m\u001b[38;5;132;01m{\u001b[39;00mnot_found\u001b[38;5;132;01m}\u001b[39;00m\u001b[38;5;124m not in index\u001b[39m\u001b[38;5;124m\"\u001b[39m)\n",
      "\u001b[1;31mKeyError\u001b[0m: \"None of [Index(['YYMMDD', 'STN', 'TA', 'HM'], dtype='object')] are in the [columns]\""
     ]
    }
   ],
   "source": [
    "import pandas as pd\n",
    "\n",
    "# 원본 파일 경로\n",
    "file_path = '기상데이터_원본.csv'\n",
    "\n",
    "# 주석 제거 후 임시 파일로 저장\n",
    "cleaned_lines = []\n",
    "\n",
    "with open(file_path, 'r', encoding='euc-kr') as f:\n",
    "    for line in f:\n",
    "        if not line.startswith('#'):\n",
    "            cleaned_lines.append(line)\n",
    "\n",
    "# 임시 저장\n",
    "cleaned_file = '기상데이터_클린.csv'\n",
    "with open(cleaned_file, 'w', encoding='euc-kr') as f:\n",
    "    f.writelines(cleaned_lines)\n",
    "\n",
    "# Pandas로 불러오기\n",
    "df = pd.read_csv(cleaned_file, delim_whitespace=True)\n",
    "\n",
    "# 컬럼 확인\n",
    "print(df.columns)\n",
    "print(df.head())\n",
    "\n",
    "# 필요한 컬럼만 선택 (컬럼명 확인 후 정확히 선택)\n",
    "# 예제용: ['YYMMDD', 'STN', 'TA', 'HM']\n",
    "needed_columns = ['YYMMDD', 'STN', 'TA', 'HM']\n",
    "df_filtered = df[needed_columns].copy()\n",
    "\n",
    "# 컬럼명 변경\n",
    "df_filtered.rename(columns={\n",
    "    'YYMMDD': 'date',\n",
    "    'STN': 'station_code',\n",
    "    'TA': 'temperature',\n",
    "    'HM': 'humidity'\n",
    "}, inplace=True)\n",
    "\n",
    "# CSV로 저장\n",
    "df_filtered.to_csv('기상데이터_최종정리.csv', index=False, encoding='utf-8-sig')\n",
    "print(\"✅ 기상데이터_최종정리.csv 저장 완료!\")\n"
   ]
  },
  {
   "cell_type": "code",
   "execution_count": 20,
   "id": "47cf9b1e",
   "metadata": {},
   "outputs": [
    {
     "name": "stdout",
     "output_type": "stream",
     "text": [
      "실제 컬럼명: ['20240501', '90', '2.5', '2160', '14', '5.3', '1736', '16', '7.7', '1857', '12.5', '17.4', '1446', '8.3', '553', '7.4', '16.0', '5.9', '72.6', '51.0', '1208', '10.3', '5.8', '4.0', '-9.00', '1012.6', '1014.7', '1016.5', '2359', '1012.6.1', '238', '3.0', '12.5.1', '13.8', '-9.0', '27.09', '3.36', '1100', '-9.0.1', '-9.0.2', '-9.00.1', '-9.0.3', '-9', '-9.0.4', '-9.1', '-9.0.5', '-9.2', '-9.0.6', '-9.3', '-9.0.7', '-9.4', '-99.0', '-99.0.1', '-99.0.2', '-99.0.3', '-99.0.4']\n",
      "   20240501   90  2.5  2160  14  5.3  1736  16  7.7  1857  ...  -9.2  -9.0.6  \\\n",
      "0  20240501   93  1.7  1426  11  4.2  1104  11  9.0  1048  ...    -9    -9.0   \n",
      "1  20240501   95  2.1  1829   2  4.2   218  34  7.5  1344  ...    -9    -9.0   \n",
      "2  20240501   98  1.0   861  32  2.1  1349   9  5.8   150  ...    -9    -9.0   \n",
      "3  20240501   99  1.7  1483   9  3.2   908   7  6.0   145  ...    -9    -9.0   \n",
      "4  20240501  100  1.9  1616   7  4.1  1200   7  8.2  1246  ...    -9    -9.0   \n",
      "\n",
      "   -9.3  -9.0.7  -9.4  -99.0  -99.0.1  -99.0.2  -99.0.3  -99.0.4  \n",
      "0    -9    -9.0    -9   17.5     15.6     13.5     11.1     11.3  \n",
      "1    -9    -9.0    -9  -99.0    -99.0    -99.0    -99.0    -99.0  \n",
      "2    -9    -9.0    -9  -99.0    -99.0    -99.0    -99.0    -99.0  \n",
      "3    -9    -9.0    -9  -99.0    -99.0    -99.0    -99.0    -99.0  \n",
      "4    -9    -9.0    -9  -99.0    -99.0    -99.0    -99.0    -99.0  \n",
      "\n",
      "[5 rows x 56 columns]\n"
     ]
    }
   ],
   "source": [
    "import pandas as pd\n",
    "\n",
    "file_path = '기상데이터_클린.csv'\n",
    "\n",
    "df = pd.read_csv(file_path, delim_whitespace=True)\n",
    "\n",
    "print(\"실제 컬럼명:\", df.columns.tolist())\n",
    "print(df.head())\n",
    "\n"
   ]
  },
  {
   "cell_type": "code",
   "execution_count": null,
   "id": "238c8fc9",
   "metadata": {},
   "outputs": [],
   "source": []
  },
  {
   "cell_type": "code",
   "execution_count": null,
   "id": "9a822277",
   "metadata": {},
   "outputs": [],
   "source": []
  },
  {
   "cell_type": "code",
   "execution_count": null,
   "id": "0aaae96b",
   "metadata": {},
   "outputs": [],
   "source": []
  },
  {
   "cell_type": "code",
   "execution_count": null,
   "id": "a9e562f2",
   "metadata": {},
   "outputs": [],
   "source": []
  },
  {
   "cell_type": "code",
   "execution_count": null,
   "id": "c0a215e9",
   "metadata": {},
   "outputs": [],
   "source": []
  }
 ],
 "metadata": {
  "kernelspec": {
   "display_name": "jikfam",
   "language": "python",
   "name": "python3"
  },
  "language_info": {
   "codemirror_mode": {
    "name": "ipython",
    "version": 3
   },
   "file_extension": ".py",
   "mimetype": "text/x-python",
   "name": "python",
   "nbconvert_exporter": "python",
   "pygments_lexer": "ipython3",
   "version": "3.10.18"
  }
 },
 "nbformat": 4,
 "nbformat_minor": 5
}
