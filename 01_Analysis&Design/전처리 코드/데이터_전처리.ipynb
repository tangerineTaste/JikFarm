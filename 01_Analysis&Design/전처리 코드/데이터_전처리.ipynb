{
 "cells": [
  {
   "cell_type": "code",
   "execution_count": 3,
   "id": "5a849626",
   "metadata": {},
   "outputs": [
    {
     "name": "stderr",
     "output_type": "stream",
     "text": [
      "C:\\Users\\Admin\\AppData\\Local\\Temp\\ipykernel_11992\\857768080.py:11: DtypeWarning: Columns (17) have mixed types. Specify dtype option on import or set low_memory=False.\n",
      "  df_template = pd.read_csv(template_path, encoding='cp949')\n"
     ]
    }
   ],
   "source": [
    "import pandas as pd\n",
    "import ast\n",
    "\n",
    "# 파일 경로\n",
    "retry_success_path = \"유통공사_retry_success_20250708_084350.csv\"\n",
    "template_path = \"유통공사_도매시장_배추_20180103-20241231.csv\"\n",
    "output_path = \"유통공사_retry_success_형식변환_20250708.csv\"\n",
    "\n",
    "# CSV 파일 불러오기 (한글 포함이므로 cp949 인코딩)\n",
    "df_retry_success = pd.read_csv(retry_success_path, encoding='cp949')\n",
    "df_template = pd.read_csv(template_path, encoding='cp949')\n",
    "\n",
    "# \"0\" 값만 있는 행 제거\n",
    "df_filtered = df_retry_success[df_retry_success[\"0\"] != \"0\"].copy()\n",
    "df_filtered.columns = [\"raw\"]  # 열 이름 재지정\n",
    "\n",
    "# 문자열을 파이썬 딕셔너리로 안전하게 변환\n",
    "df_parsed = df_filtered[\"raw\"].apply(ast.literal_eval)\n",
    "df_data = pd.DataFrame(df_parsed.tolist())\n",
    "\n",
    "# 열 순서 맞추기 (template 기준)\n",
    "df_data = df_data.reindex(columns=df_template.columns)\n",
    "\n",
    "# 저장\n",
    "df_data.to_csv(output_path, index=False, encoding='cp949')"
   ]
  },
  {
   "cell_type": "code",
   "execution_count": 4,
   "id": "482b0580",
   "metadata": {},
   "outputs": [
    {
     "name": "stderr",
     "output_type": "stream",
     "text": [
      "C:\\Users\\Admin\\AppData\\Local\\Temp\\ipykernel_11992\\379043658.py:11: DtypeWarning: Columns (17) have mixed types. Specify dtype option on import or set low_memory=False.\n",
      "  df_existing = pd.read_csv(existing_path, encoding='cp949')\n",
      "C:\\Users\\Admin\\AppData\\Local\\Temp\\ipykernel_11992\\379043658.py:12: DtypeWarning: Columns (13) have mixed types. Specify dtype option on import or set low_memory=False.\n",
      "  df_new = pd.read_csv(new_path, encoding='cp949')\n"
     ]
    }
   ],
   "source": [
    "# 병합하기\n",
    "\n",
    "import pandas as pd\n",
    "\n",
    "# 파일 경로 설정\n",
    "existing_path = \"유통공사_도매시장_배추_20180103-20241231.csv\"\n",
    "new_path = \"유통공사_retry_success_형식변환_20250708.csv\"\n",
    "output_path = \"유통공사_도매시장_배추_병합중복제거_20250708.csv\"\n",
    "\n",
    "# CSV 파일 불러오기\n",
    "df_existing = pd.read_csv(existing_path, encoding='cp949')\n",
    "df_new = pd.read_csv(new_path, encoding='cp949')\n",
    "\n",
    "# 데이터 병합\n",
    "df_merged = pd.concat([df_existing, df_new], ignore_index=True)\n",
    "\n",
    "# 날짜 컬럼을 datetime으로 변환 후 정렬\n",
    "df_merged[\"trd_clcln_ymd\"] = pd.to_datetime(df_merged[\"trd_clcln_ymd\"])\n",
    "df_merged.sort_values(\"trd_clcln_ymd\", inplace=True)\n",
    "\n",
    "# 완전 중복 행 제거\n",
    "df_merged.drop_duplicates(inplace=True)\n",
    "\n",
    "# 저장\n",
    "df_merged.to_csv(output_path, index=False, encoding='cp949')"
   ]
  },
  {
   "cell_type": "code",
   "execution_count": 8,
   "id": "12c3d58a",
   "metadata": {},
   "outputs": [
    {
     "name": "stderr",
     "output_type": "stream",
     "text": [
      "C:\\Users\\Admin\\AppData\\Local\\Temp\\ipykernel_11992\\436796294.py:8: DtypeWarning: Columns (13,17) have mixed types. Specify dtype option on import or set low_memory=False.\n",
      "  df = pd.read_csv(input_path, encoding='cp949')\n"
     ]
    }
   ],
   "source": [
    "import pandas as pd\n",
    "\n",
    "# 파일 경로\n",
    "input_path = \"유통공사_도매시장_배추_병합중복제거_20250708.csv\"\n",
    "output_path = \"유통공사_도매시장_배추_한글컬럼명_20250708.csv\"\n",
    "\n",
    "# CSV 불러오기\n",
    "df = pd.read_csv(input_path, encoding='cp949')\n",
    "\n",
    "# 새로운 한글 컬럼명\n",
    "new_columns = [\n",
    "    '평균가격', '법인코드', '법인이름', '상품 대분류 코드', '상품 대분류 이름',\n",
    "    '상품 중분류 코드', '상품 중분류 이름', '상품 소분류 코드', '상품 소분류 이름',\n",
    "    '등급코드', '등급이름', '최고가', '최저가', '포장코드', '포장이름',\n",
    "    '산지코드', '산지이름', '크기코드', '크기이름', '총가격', '날짜',\n",
    "    '매매구분', '단위코드', '단위', '단위물량', '단위총물량', '도매시장코드', '도매시장이름'\n",
    "]\n",
    "\n",
    "# 컬럼명 변경\n",
    "if len(df.columns) == len(new_columns):\n",
    "    df.columns = new_columns\n",
    "else:\n",
    "    raise ValueError(\"컬럼 수가 맞지 않아 컬럼명을 변경할 수 없습니다.\")\n",
    "\n",
    "# 저장\n",
    "df.to_csv(output_path, index=False, encoding='cp949')"
   ]
  },
  {
   "cell_type": "code",
   "execution_count": 10,
   "id": "0add8419",
   "metadata": {},
   "outputs": [
    {
     "name": "stderr",
     "output_type": "stream",
     "text": [
      "C:\\Users\\Admin\\AppData\\Local\\Temp\\ipykernel_11992\\772746532.py:8: DtypeWarning: Columns (13,17) have mixed types. Specify dtype option on import or set low_memory=False.\n",
      "  df = pd.read_csv(input_path, encoding='cp949')\n"
     ]
    }
   ],
   "source": [
    "import pandas as pd\n",
    "\n",
    "# 파일 경로\n",
    "input_path = \"유통공사_도매시장_배추_한글컬럼명_20250708.csv\"\n",
    "output_path = \"유통공사_배추_요약데이터_20250708.csv\"\n",
    "\n",
    "# CSV 파일 불러오기\n",
    "df = pd.read_csv(input_path, encoding='cp949')\n",
    "\n",
    "selected_columns = ['날짜', '상품 중분류 이름', '등급이름', '총가격', '단위총물량', '산지코드', '산지이름']\n",
    "df_selected = df[selected_columns]\n",
    "\n",
    "# 새 CSV로 저장\n",
    "df_selected.to_csv(output_path, index=False, encoding='cp949')"
   ]
  },
  {
   "cell_type": "code",
   "execution_count": 20,
   "id": "323131b8",
   "metadata": {},
   "outputs": [
    {
     "name": "stdout",
     "output_type": "stream",
     "text": [
      "✅ 산지이름 기반으로 산지코드 수정 완료: 유통공사_배추_요약데이터_산지이름기반수정.csv\n"
     ]
    }
   ],
   "source": [
    "import pandas as pd\n",
    "\n",
    "# 파일 경로\n",
    "base_file = \"유통공사_배추_요약데이터_20250708.csv\"\n",
    "jigpam_code_file = \"산지코드_직팜.csv\"\n",
    "\n",
    "# 파일 읽기 (cp949 인코딩)\n",
    "df_base = pd.read_csv(base_file, encoding='cp949')\n",
    "df_code = pd.read_csv(jigpam_code_file, encoding='cp949')\n",
    "\n",
    "# '산지코드'를 숫자형으로 변환\n",
    "df_code['산지코드'] = pd.to_numeric(df_code['산지코드'], errors='coerce')\n",
    "\n",
    "# 800000 이상인 항목만 필터링하여 매핑 딕셔너리 생성\n",
    "code_map = df_code[df_code['산지코드'] >= 800000] \\\n",
    "              .set_index('산지이름')['산지코드'].to_dict()\n",
    "\n",
    "# 안전한 대체 함수 정의\n",
    "def safe_replace(row):\n",
    "    new_code = code_map.get(row['산지이름'], None)\n",
    "    if new_code is not None:\n",
    "        return new_code\n",
    "    return row['산지코드']  # 매핑 안되면 기존 값 유지\n",
    "\n",
    "# 정제 후 문자형으로 저장\n",
    "df_base['산지코드'] = df_base['산지코드'].apply(clean_origin_code)\n",
    "\n",
    "# 결과 저장\n",
    "output_path = \"유통공사_배추_요약데이터_산지이름기반수정.csv\"\n",
    "df_base.to_csv(output_path, index=False, encoding='cp949')\n",
    "\n",
    "print(f\"✅ 산지이름 기반으로 산지코드 수정 완료: {output_path}\")"
   ]
  },
  {
   "cell_type": "code",
   "execution_count": 21,
   "id": "d757a981",
   "metadata": {},
   "outputs": [
    {
     "name": "stdout",
     "output_type": "stream",
     "text": [
      "정제된 데이터가 저장되었습니다: 유통공사_배추_요약데이터_정제.csv\n"
     ]
    }
   ],
   "source": [
    "import pandas as pd\n",
    "import re\n",
    "\n",
    "# CSV 파일 로드\n",
    "df = pd.read_csv(\"유통공사_배추_요약데이터_산지이름기반수정.csv\", encoding = 'cp949')\n",
    "\n",
    "# 산지코드 정제 함수\n",
    "def clean_origin_code(code):\n",
    "    cleaned = re.sub(r'\\D', '0', str(code))     # 숫자가 아닌 문자는 0으로 치환\n",
    "    cleaned = cleaned.ljust(6, '0')              # 6자리로 패딩\n",
    "    return cleaned\n",
    "\n",
    "# '산지코드' 컬럼 정제 후 덮어쓰기\n",
    "df['산지코드'] = df['산지코드'].apply(clean_origin_code)\n",
    "\n",
    "# 저장\n",
    "output_path = \"유통공사_배추_요약데이터_정제.csv\"\n",
    "df.to_csv(output_path, index=False, encoding = 'cp949')\n",
    "\n",
    "print(f\"정제된 데이터가 저장되었습니다: {output_path}\")"
   ]
  },
  {
   "cell_type": "code",
   "execution_count": null,
   "id": "92382234",
   "metadata": {},
   "outputs": [],
   "source": []
  }
 ],
 "metadata": {
  "kernelspec": {
   "display_name": "ml-dl-nlp",
   "language": "python",
   "name": "ml-dl-nlp"
  },
  "language_info": {
   "codemirror_mode": {
    "name": "ipython",
    "version": 3
   },
   "file_extension": ".py",
   "mimetype": "text/x-python",
   "name": "python",
   "nbconvert_exporter": "python",
   "pygments_lexer": "ipython3",
   "version": "3.10.18"
  },
  "toc": {
   "base_numbering": 1,
   "nav_menu": {},
   "number_sections": false,
   "sideBar": true,
   "skip_h1_title": false,
   "title_cell": "Table of Contents",
   "title_sidebar": "Contents",
   "toc_cell": false,
   "toc_position": {},
   "toc_section_display": true,
   "toc_window_display": false
  }
 },
 "nbformat": 4,
 "nbformat_minor": 5
}
