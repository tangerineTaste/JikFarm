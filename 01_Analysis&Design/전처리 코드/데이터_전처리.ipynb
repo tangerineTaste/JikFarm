{
 "cells": [
  {
   "cell_type": "code",
   "execution_count": 71,
   "id": "5a1cdcaa",
   "metadata": {},
   "outputs": [],
   "source": [
    "item_nm = '양파'"
   ]
  },
  {
   "cell_type": "code",
   "execution_count": 72,
   "id": "5a849626",
   "metadata": {},
   "outputs": [],
   "source": [
    "import pandas as pd\n",
    "import glob\n",
    "import os\n",
    "\n",
    "# 기본 파일 경로\n",
    "base_path = f\"{item_nm}/유통공사_도매시장_{item_nm}.csv\"\n",
    "\n",
    "# retry 파일 목록 수집\n",
    "retry_paths = glob.glob(f\"{item_nm}/유통공사_retry_{item_nm}_*.csv\")\n",
    "\n",
    "# 기본 파일 읽기\n",
    "df_list = [pd.read_csv(base_path, encoding=\"cp949\", low_memory=False)]\n",
    "\n",
    "# retry 파일들 읽기 (있을 경우에만)\n",
    "for path in retry_paths:\n",
    "    df_list.append(pd.read_csv(path, encoding=\"cp949\", low_memory=False))\n",
    "\n",
    "# 병합\n",
    "df = pd.concat(df_list, ignore_index=True)\n",
    "\n",
    "# 중복 제거 (전체 행 기준 또는 주요 열 기준)\n",
    "df = df.drop_duplicates()\n",
    "\n",
    "# plor_cd가 문자열이 아닐 가능성 대비\n",
    "df['plor_cd'] = df['plor_cd'].fillna('').astype(str)\n",
    "\n",
    "pattern = r'^[^0-9]+$'\n",
    "\n",
    "condition = (\n",
    "    df['totprc'].isna() | (df['totprc'] <= 0) |\n",
    "    df['unit_tot_qty'].isna() | (df['unit_tot_qty'] <= 0) |\n",
    "    df['plor_cd'].str.strip().isin(['0', '0.0']) |\n",
    "    df['plor_cd'].str.match(pattern, na=False) |\n",
    "    df['plor_nm'].isna() |\n",
    "    (df['plor_nm'] == 0)\n",
    ")\n",
    "\n",
    "# 조건에 해당하는 행 추출\n",
    "df_filtered = df[~condition]\n",
    "\n",
    "# 결과 저장\n",
    "df_filtered.to_csv(f\"{item_nm}/유통공사_도매시장_{item_nm}_결측치제거.csv\", index=False, encoding=\"cp949\")"
   ]
  },
  {
   "cell_type": "code",
   "execution_count": 73,
   "id": "12c3d58a",
   "metadata": {},
   "outputs": [],
   "source": [
    "import pandas as pd\n",
    "\n",
    "# 1. 파일 경로 설정\n",
    "input_path = f\"{item_nm}/유통공사_도매시장_{item_nm}_결측치제거.csv\"\n",
    "output_path = f\"{item_nm}/유통공사_도매시장_{item_nm}_한글컬럼명.csv\"\n",
    "\n",
    "# 2. CSV 전체를 문자열로 불러오기 (최초 경고 방지)\n",
    "df = pd.read_csv(input_path, encoding='cp949', dtype=str)\n",
    "\n",
    "# 3. 한글 컬럼명 설정\n",
    "new_columns = [\n",
    "    '평균가격(원)', '법인코드', '법인이름', '상품 대분류 코드', '상품 대분류 이름',\n",
    "    '상품 중분류 코드', '상품 중분류 이름', '상품 소분류 코드', '상품 소분류 이름',\n",
    "    '등급코드', '등급이름', '최고가(원)', '최저가(원)', '포장코드', '포장이름',\n",
    "    '산지코드', '산지이름', '크기코드', '크기이름', '총가격(원)', '연월일',\n",
    "    '매매구분', '단위코드', '단위(kg)', '단위물량(kg)', '단위총물량(kg)', '도매시장코드', '도매시장이름'\n",
    "]\n",
    "\n",
    "if len(df.columns) != len(new_columns):\n",
    "    raise ValueError(\"컬럼 수가 일치하지 않습니다.\")\n",
    "\n",
    "df.columns = new_columns\n",
    "\n",
    "# 4. 날짜 컬럼 변환\n",
    "df['연월일'] = pd.to_datetime(df['연월일'], errors='coerce')\n",
    "\n",
    "# 5. 숫자 컬럼 변환\n",
    "numeric_columns = ['평균가격(원)', '최고가(원)', '최저가(원)', '총가격(원)', '단위물량(kg)', '단위총물량(kg)']\n",
    "for col in numeric_columns:\n",
    "    df[col] = pd.to_numeric(df[col], errors='coerce')\n",
    "\n",
    "# 6. 혼합 타입 경고 컬럼 처리: NaN을 빈 문자열로, 모두 문자열화\n",
    "for col in ['포장이름', '산지이름', '크기이름']:\n",
    "    df[col] = df[col].fillna('').astype(str)\n",
    "\n",
    "# 7. CSV 저장 (완전 정리된 상태)\n",
    "df.to_csv(output_path, index=False, encoding='cp949')"
   ]
  },
  {
   "cell_type": "code",
   "execution_count": 74,
   "id": "0add8419",
   "metadata": {},
   "outputs": [
    {
     "name": "stderr",
     "output_type": "stream",
     "text": [
      "C:\\Users\\Admin\\AppData\\Local\\Temp\\ipykernel_6600\\1634698712.py:8: DtypeWarning: Columns (9,13,17) have mixed types. Specify dtype option on import or set low_memory=False.\n",
      "  df = pd.read_csv(input_path, encoding='cp949')\n",
      "C:\\Users\\Admin\\AppData\\Local\\Temp\\ipykernel_6600\\1634698712.py:13: SettingWithCopyWarning: \n",
      "A value is trying to be set on a copy of a slice from a DataFrame\n",
      "\n",
      "See the caveats in the documentation: https://pandas.pydata.org/pandas-docs/stable/user_guide/indexing.html#returning-a-view-versus-a-copy\n",
      "  df_selected.rename(columns={\n",
      "C:\\Users\\Admin\\AppData\\Local\\Temp\\ipykernel_6600\\1634698712.py:22: SettingWithCopyWarning: \n",
      "A value is trying to be set on a copy of a slice from a DataFrame.\n",
      "Try using .loc[row_indexer,col_indexer] = value instead\n",
      "\n",
      "See the caveats in the documentation: https://pandas.pydata.org/pandas-docs/stable/user_guide/indexing.html#returning-a-view-versus-a-copy\n",
      "  df_selected['평균단가(원)'] = df_selected['총금액(원)'] / df_selected['총거래량(kg)']\n",
      "C:\\Users\\Admin\\AppData\\Local\\Temp\\ipykernel_6600\\1634698712.py:23: SettingWithCopyWarning: \n",
      "A value is trying to be set on a copy of a slice from a DataFrame.\n",
      "Try using .loc[row_indexer,col_indexer] = value instead\n",
      "\n",
      "See the caveats in the documentation: https://pandas.pydata.org/pandas-docs/stable/user_guide/indexing.html#returning-a-view-versus-a-copy\n",
      "  df_selected['평균단가(원)'] = df_selected['평균단가(원)'].replace([float('inf'), -float('inf')], None)\n"
     ]
    }
   ],
   "source": [
    "import pandas as pd\n",
    "\n",
    "# 파일 경로\n",
    "input_path = f\"{item_nm}/유통공사_도매시장_{item_nm}_한글컬럼명.csv\"\n",
    "output_path = f\"{item_nm}/유통공사_{item_nm}_요약데이터.csv\"\n",
    "\n",
    "# CSV 파일 불러오기\n",
    "df = pd.read_csv(input_path, encoding='cp949')\n",
    "\n",
    "selected_columns = ['연월일', '상품 중분류 코드', '상품 중분류 이름', '상품 소분류 코드', '상품 소분류 이름',\n",
    "    '등급코드', '등급이름', '총가격(원)', '단위총물량(kg)', '산지코드', '산지이름']\n",
    "df_selected = df[selected_columns]\n",
    "df_selected.rename(columns={\n",
    "    '상품 중분류 코드':'품목코드',\n",
    "    '상품 중분류 이름':'품목명',\n",
    "    '상품 소분류 코드':'품종코드',\n",
    "    '상품 소분류 이름':'품종명',\n",
    "    '총가격(원)':'총금액(원)',\n",
    "    '단위총물량(kg)':'총거래량(kg)'\n",
    "}, inplace=True)\n",
    "\n",
    "df_selected['평균단가(원)'] = df_selected['총금액(원)'] / df_selected['총거래량(kg)']\n",
    "df_selected['평균단가(원)'] = df_selected['평균단가(원)'].replace([float('inf'), -float('inf')], None)\n",
    "df_selected.insert(df_selected.columns.get_loc('총거래량(kg)') + 1, '평균단가(원)', df_selected.pop('평균단가(원)'))\n",
    "\n",
    "# 새 CSV로 저장\n",
    "df_selected.to_csv(output_path, index=False, encoding='cp949')"
   ]
  },
  {
   "cell_type": "code",
   "execution_count": 75,
   "id": "793dd88c",
   "metadata": {},
   "outputs": [
    {
     "name": "stderr",
     "output_type": "stream",
     "text": [
      "C:\\Users\\Admin\\AppData\\Local\\Temp\\ipykernel_6600\\298332032.py:1: DtypeWarning: Columns (5) have mixed types. Specify dtype option on import or set low_memory=False.\n",
      "  df = pd.read_csv(f\"{item_nm}/유통공사_{item_nm}_요약데이터.csv\", encoding = 'cp949')\n"
     ]
    },
    {
     "data": {
      "text/plain": [
       "연월일         0\n",
       "품목코드        0\n",
       "품목명         0\n",
       "품종코드        0\n",
       "품종명         0\n",
       "등급코드        0\n",
       "등급이름        0\n",
       "총금액(원)      0\n",
       "총거래량(kg)    0\n",
       "평균단가(원)     0\n",
       "산지코드        0\n",
       "산지이름        0\n",
       "dtype: int64"
      ]
     },
     "execution_count": 75,
     "metadata": {},
     "output_type": "execute_result"
    }
   ],
   "source": [
    "df = pd.read_csv(f\"{item_nm}/유통공사_{item_nm}_요약데이터.csv\", encoding = 'cp949')\n",
    "\n",
    "df.isna().sum()"
   ]
  },
  {
   "cell_type": "code",
   "execution_count": 76,
   "id": "d757a981",
   "metadata": {},
   "outputs": [
    {
     "name": "stderr",
     "output_type": "stream",
     "text": [
      "C:\\Users\\Admin\\AppData\\Local\\Temp\\ipykernel_6600\\57156428.py:5: DtypeWarning: Columns (5) have mixed types. Specify dtype option on import or set low_memory=False.\n",
      "  df = pd.read_csv(f\"{item_nm}/유통공사_{item_nm}_요약데이터.csv\", encoding='cp949')\n"
     ]
    },
    {
     "name": "stdout",
     "output_type": "stream",
     "text": [
      "정제된 데이터가 저장되었습니다: 양파/유통공사_양파_요약데이터_정제.csv\n"
     ]
    }
   ],
   "source": [
    "import pandas as pd\n",
    "import re\n",
    "\n",
    "# CSV 파일 로드\n",
    "df = pd.read_csv(f\"{item_nm}/유통공사_{item_nm}_요약데이터.csv\", encoding='cp949')\n",
    "\n",
    "# 상품 중분류 이름 결측치 처리\n",
    "df['품목코드'] = df['품목코드'].replace('', pd.NA).fillna(item_nm)\n",
    "df['품목명'] = df['품목명'].replace('', pd.NA).fillna(item_nm)\n",
    "df['품종코드'] = df['품종코드'].replace('', pd.NA).fillna(item_nm)\n",
    "df['품종명'] = df['품종명'].replace('', pd.NA).fillna(item_nm)\n",
    "\n",
    "# 산지코드 정제 함수 (문자 → 0, 앞자리 0 제거, 6자리 맞춤)\n",
    "def clean_origin_code_backpad(code):\n",
    "    code_str = str(code).strip()\n",
    "    replaced = re.sub(r'\\D', '0', code_str)      # 문자 → 0\n",
    "    stripped = replaced.lstrip('0')              # 앞쪽 0 제거\n",
    "    if not stripped:  # 모두 0이거나 제거 결과 없음\n",
    "        stripped = '0'\n",
    "    return stripped[:6].ljust(6, '0')            # 앞 6자리 + 뒤 0 패딩\n",
    "\n",
    "# 적용\n",
    "df['산지코드'] = df['산지코드'].apply(clean_origin_code_backpad)\n",
    "\n",
    "# 저장\n",
    "output_path = f\"{item_nm}/유통공사_{item_nm}_요약데이터_정제.csv\"\n",
    "df.to_csv(output_path, index=False, encoding='cp949')\n",
    "\n",
    "print(f\"정제된 데이터가 저장되었습니다: {output_path}\")"
   ]
  },
  {
   "cell_type": "code",
   "execution_count": 77,
   "id": "76c211d5",
   "metadata": {
    "scrolled": true
   },
   "outputs": [
    {
     "name": "stderr",
     "output_type": "stream",
     "text": [
      "C:\\Users\\Admin\\AppData\\Local\\Temp\\ipykernel_6600\\1449754255.py:1: DtypeWarning: Columns (5) have mixed types. Specify dtype option on import or set low_memory=False.\n",
      "  df = pd.read_csv(f\"{item_nm}/유통공사_{item_nm}_요약데이터_정제.csv\", encoding = 'cp949')\n"
     ]
    },
    {
     "data": {
      "text/plain": [
       "연월일         0\n",
       "품목코드        0\n",
       "품목명         0\n",
       "품종코드        0\n",
       "품종명         0\n",
       "등급코드        0\n",
       "등급이름        0\n",
       "총금액(원)      0\n",
       "총거래량(kg)    0\n",
       "평균단가(원)     0\n",
       "산지코드        0\n",
       "산지이름        0\n",
       "dtype: int64"
      ]
     },
     "execution_count": 77,
     "metadata": {},
     "output_type": "execute_result"
    }
   ],
   "source": [
    "df = pd.read_csv(f\"{item_nm}/유통공사_{item_nm}_요약데이터_정제.csv\", encoding = 'cp949')\n",
    "\n",
    "df.isna().sum()"
   ]
  },
  {
   "cell_type": "code",
   "execution_count": 78,
   "id": "ddb059fa",
   "metadata": {},
   "outputs": [],
   "source": [
    "import pandas as pd\n",
    "\n",
    "# 파일 경로 설정\n",
    "file_path = f\"{item_nm}/유통공사_{item_nm}_요약데이터_정제.csv\"\n",
    "\n",
    "# CSV 파일 읽기 (경고 방지를 위해 low_memory=False 사용)\n",
    "df = pd.read_csv(file_path, encoding=\"cp949\", low_memory=False)\n",
    "\n",
    "# 산지코드가 문자열로 처리되도록 변환\n",
    "df['산지코드'] = df['산지코드'].fillna('').astype(str)\n",
    "\n",
    "# 필터링 조건: totprc 또는 unit_tot_qty가 NaN이거나 0인 경우\n",
    "pattern = r'^[^0-9]+$'\n",
    "\n",
    "condition = (\n",
    "    (df['산지코드'] == '') |\n",
    "    (df['산지코드'].str.strip() == \"0\") |\n",
    "    (df['산지코드'].str.strip() == \"0.0\")\n",
    "#     df['plor_cd'].str.match(pattern, na=False)) \n",
    "#     (df['plor_nm'].isna() | (df['plor_nm'] == 0))\n",
    ")\n",
    "\n",
    "# 조건에 해당하는 행 추출\n",
    "df_filtered = df[condition]\n",
    "\n",
    "# 결과 저장\n",
    "df_filtered.to_csv(f\"{item_nm}/결측치_{item_nm}.csv\", index=False, encoding=\"cp949\")"
   ]
  },
  {
   "cell_type": "code",
   "execution_count": 79,
   "id": "92382234",
   "metadata": {},
   "outputs": [
    {
     "name": "stderr",
     "output_type": "stream",
     "text": [
      "C:\\Users\\Admin\\AppData\\Local\\Temp\\ipykernel_6600\\3747483502.py:8: DtypeWarning: Columns (5) have mixed types. Specify dtype option on import or set low_memory=False.\n",
      "  summary_df = pd.read_csv(summary_path, encoding='cp949')\n"
     ]
    }
   ],
   "source": [
    "import pandas as pd\n",
    "\n",
    "# 1. 파일 경로 설정\n",
    "summary_path = f\"{item_nm}/유통공사_{item_nm}_요약데이터_정제.csv\"\n",
    "region_code_path = \"표준코드/산지코드_직팜.csv\"\n",
    "\n",
    "# 2. CSV 불러오기\n",
    "summary_df = pd.read_csv(summary_path, encoding='cp949')\n",
    "region_df = pd.read_csv(region_code_path, encoding='cp949')\n",
    "\n",
    "# 3. 산지코드 범위 파싱 함수\n",
    "def parse_code_range(code_str):\n",
    "    if \"~\" in code_str:\n",
    "        start, end = code_str.split(\"~\")\n",
    "    else:\n",
    "        start = end = code_str\n",
    "    return int(start), int(end)\n",
    "\n",
    "# 4. 산지코드 범위 숫자 컬럼 생성\n",
    "region_df[['start_code', 'end_code']] = region_df['산지코드'].apply(\n",
    "    lambda x: pd.Series(parse_code_range(x))\n",
    ")\n",
    "\n",
    "# 5. 산지코드 → 직팜산지코드/이름 매핑 테이블 확장\n",
    "expanded_rows = []\n",
    "for _, row in region_df.iterrows():\n",
    "    for code in range(row['start_code'], row['end_code'] + 1):\n",
    "        expanded_rows.append({\n",
    "            '산지코드': code,\n",
    "            '직팜산지코드': row['직팜산지코드'],\n",
    "            '직팜산지이름': row['직팜산지이름']\n",
    "        })\n",
    "expanded_map_df = pd.DataFrame(expanded_rows)\n",
    "\n",
    "# 6. 요약 데이터 산지코드 정수형으로 변환\n",
    "summary_df['산지코드'] = pd.to_numeric(summary_df['산지코드'], errors='coerce').astype('Int64')\n",
    "summary_df = summary_df[summary_df['산지코드'].notna()].copy()\n",
    "summary_df['산지코드'] = summary_df['산지코드'].astype(int)\n",
    "\n",
    "# 7. 직팜 컬럼 제거 후 병합\n",
    "summary_df = summary_df.drop(columns=['직팜산지코드', '직팜산지이름'], errors='ignore')\n",
    "summary_df = pd.merge(summary_df, expanded_map_df, on='산지코드', how='left')\n",
    "\n",
    "# 8. 산지이름이 누락된 경우 직팜산지이름으로 보완\n",
    "summary_df['산지이름'] = summary_df['산지이름'].fillna(summary_df['직팜산지이름'])\n",
    "\n",
    "\n",
    "# 9. 결과 저장\n",
    "summary_df.to_csv(f\"{item_nm}/{item_nm}요약데이터_직팜산지정리.csv\", index=False, encoding='cp949')"
   ]
  },
  {
   "cell_type": "code",
   "execution_count": 80,
   "id": "e5467f89",
   "metadata": {
    "scrolled": true
   },
   "outputs": [
    {
     "name": "stderr",
     "output_type": "stream",
     "text": [
      "C:\\Users\\Admin\\AppData\\Local\\Temp\\ipykernel_6600\\70669388.py:1: DtypeWarning: Columns (5) have mixed types. Specify dtype option on import or set low_memory=False.\n",
      "  df = pd.read_csv(f\"{item_nm}/{item_nm}요약데이터_직팜산지정리.csv\", encoding = 'cp949')\n"
     ]
    },
    {
     "data": {
      "text/plain": [
       "연월일         0\n",
       "품목코드        0\n",
       "품목명         0\n",
       "품종코드        0\n",
       "품종명         0\n",
       "등급코드        0\n",
       "등급이름        0\n",
       "총금액(원)      0\n",
       "총거래량(kg)    0\n",
       "평균단가(원)     0\n",
       "산지코드        0\n",
       "산지이름        0\n",
       "직팜산지코드      0\n",
       "직팜산지이름      0\n",
       "dtype: int64"
      ]
     },
     "execution_count": 80,
     "metadata": {},
     "output_type": "execute_result"
    }
   ],
   "source": [
    "df = pd.read_csv(f\"{item_nm}/{item_nm}요약데이터_직팜산지정리.csv\", encoding = 'cp949')\n",
    "\n",
    "df.isna().sum()"
   ]
  },
  {
   "cell_type": "code",
   "execution_count": 81,
   "id": "827857ba",
   "metadata": {},
   "outputs": [
    {
     "name": "stderr",
     "output_type": "stream",
     "text": [
      "C:\\Users\\Admin\\AppData\\Local\\Temp\\ipykernel_6600\\1157110577.py:4: DtypeWarning: Columns (5) have mixed types. Specify dtype option on import or set low_memory=False.\n",
      "  df = pd.read_csv(f\"{item_nm}/{item_nm}요약데이터_직팜산지정리.csv\", encoding='cp949')\n"
     ]
    },
    {
     "name": "stdout",
     "output_type": "stream",
     "text": [
      "등급이름 수정 완료: 양파/양파요약데이터_직팜정리.csv\n"
     ]
    }
   ],
   "source": [
    "import pandas as pd\n",
    "\n",
    "# CSV 파일 로드\n",
    "df = pd.read_csv(f\"{item_nm}/{item_nm}요약데이터_직팜산지정리.csv\", encoding='cp949')\n",
    "\n",
    "# 등급이름이 NaN 또는 공백이거나 '.'인 경우 '보통'으로 대체\n",
    "df['등급이름'] = df['등급이름'].replace('.', '보통').fillna('보통')\n",
    "df['등급이름'] = df['등급이름'].replace(r'^\\s*$', '보통', regex=True)\n",
    "\n",
    "# '특', '상', '보통' 외의 값은 모두 '하'로 변경\n",
    "df['등급이름'] = df['등급이름'].apply(lambda x: x if x in ['특', '상', '보통'] else '하')\n",
    "\n",
    "# 저장\n",
    "output_path = f\"{item_nm}/{item_nm}요약데이터_직팜정리.csv\"\n",
    "df.to_csv(output_path, index=False, encoding='cp949')\n",
    "\n",
    "print(f\"등급이름 수정 완료: {output_path}\")"
   ]
  },
  {
   "cell_type": "code",
   "execution_count": 82,
   "id": "d0c425a8",
   "metadata": {},
   "outputs": [
    {
     "name": "stderr",
     "output_type": "stream",
     "text": [
      "C:\\Users\\Admin\\AppData\\Local\\Temp\\ipykernel_6600\\2818479368.py:4: DtypeWarning: Columns (5) have mixed types. Specify dtype option on import or set low_memory=False.\n",
      "  df = pd.read_csv(f\"{item_nm}/{item_nm}요약데이터_직팜정리.csv\", encoding='cp949')\n"
     ]
    },
    {
     "name": "stdout",
     "output_type": "stream",
     "text": [
      "결측치 포함 행 0개를 '양파/양파_결측치포함행.csv'로 저장했습니다.\n"
     ]
    }
   ],
   "source": [
    "import pandas as pd\n",
    "\n",
    "# 파일 경로와 인코딩으로 데이터 불러오기\n",
    "df = pd.read_csv(f\"{item_nm}/{item_nm}요약데이터_직팜정리.csv\", encoding='cp949')\n",
    "\n",
    "# 결측치가 하나라도 있는 행만 추출\n",
    "df_na = df[df.isna().any(axis=1)]\n",
    "\n",
    "# 결과 저장\n",
    "output_path = f\"{item_nm}/{item_nm}_결측치포함행.csv\"\n",
    "df_na.to_csv(output_path, index=False, encoding='cp949')\n",
    "\n",
    "print(f\"결측치 포함 행 {len(df_na)}개를 '{output_path}'로 저장했습니다.\")"
   ]
  },
  {
   "cell_type": "code",
   "execution_count": 83,
   "id": "2c88d6fa",
   "metadata": {},
   "outputs": [
    {
     "name": "stderr",
     "output_type": "stream",
     "text": [
      "C:\\Users\\Admin\\AppData\\Local\\Temp\\ipykernel_6600\\649520230.py:4: DtypeWarning: Columns (5) have mixed types. Specify dtype option on import or set low_memory=False.\n",
      "  df = pd.read_csv(f\"{item_nm}/{item_nm}요약데이터_직팜정리.csv\", encoding='cp949')\n"
     ]
    }
   ],
   "source": [
    "import pandas as pd\n",
    "\n",
    "# 파일 불러오기\n",
    "df = pd.read_csv(f\"{item_nm}/{item_nm}요약데이터_직팜정리.csv\", encoding='cp949')\n",
    "\n",
    "# 제거할 컬럼 리스트\n",
    "columns_to_drop = ['산지코드', '산지이름', '직팜산지이름']\n",
    "df.drop(columns=columns_to_drop, inplace=True, errors='ignore')\n",
    "\n",
    "# 새로 추가할 컬럼들 (초기값은 None)\n",
    "new_columns = [\n",
    "    '휴일여부', '명절지수', '작기정보'\n",
    "]\n",
    "for col in new_columns:\n",
    "    df[col] = None\n",
    "\n",
    "# 결과 저장\n",
    "df.to_csv(f\"{item_nm}/{item_nm}요약데이터_컬럼정리완료.csv\", index=False, encoding='cp949')"
   ]
  },
  {
   "cell_type": "code",
   "execution_count": 84,
   "id": "e46e1f7c",
   "metadata": {},
   "outputs": [
    {
     "name": "stderr",
     "output_type": "stream",
     "text": [
      "C:\\Users\\Admin\\AppData\\Local\\Temp\\ipykernel_6600\\1469962328.py:8: DtypeWarning: Columns (5) have mixed types. Specify dtype option on import or set low_memory=False.\n",
      "  df_summary = pd.read_csv(summary_path, encoding='cp949')\n"
     ]
    }
   ],
   "source": [
    "import pandas as pd\n",
    "\n",
    "# 파일 경로\n",
    "summary_path = f\"{item_nm}/{item_nm}요약데이터_컬럼정리완료.csv\"\n",
    "mapping_path = \"기상/산지코드_직팜_관측지점_매핑완료.csv\"\n",
    "\n",
    "# CSV 파일 불러오기\n",
    "df_summary = pd.read_csv(summary_path, encoding='cp949')\n",
    "df_mapping = pd.read_csv(mapping_path, encoding='cp949')\n",
    "\n",
    "# 중복 제거\n",
    "df_mapping = df_mapping.drop_duplicates(subset='직팜산지코드')\n",
    "\n",
    "# '직팜산지코드' 기준으로 '관측지점' 컬럼 병합\n",
    "df_merge = pd.merge(\n",
    "    df_summary,\n",
    "    df_mapping[['직팜산지코드', '관측지점']],\n",
    "    on='직팜산지코드',\n",
    "    how='left'\n",
    ")\n",
    "\n",
    "# '작기정보' 컬럼 오른쪽에 '관측지점' 컬럼 삽입\n",
    "if '작기정보' in df_merge.columns:\n",
    "    insert_idx = df_merge.columns.get_loc('작기정보') + 1  # '작기정보' 다음 위치\n",
    "    관측지점_series = df_merge.pop('관측지점')\n",
    "    df_merge.insert(insert_idx, '관측지점', 관측지점_series)\n",
    "\n",
    "# 결과 저장\n",
    "df_merge.to_csv(f\"{item_nm}/{item_nm}요약데이터_관측지점추가.csv\", index=False, encoding='cp949')"
   ]
  },
  {
   "cell_type": "code",
   "execution_count": 85,
   "id": "0c43b24c",
   "metadata": {},
   "outputs": [
    {
     "name": "stderr",
     "output_type": "stream",
     "text": [
      "C:\\Users\\Admin\\AppData\\Local\\Temp\\ipykernel_6600\\1151683674.py:9: DtypeWarning: Columns (5) have mixed types. Specify dtype option on import or set low_memory=False.\n",
      "  df_crop = pd.read_csv(crop_path, encoding='cp949')\n"
     ]
    }
   ],
   "source": [
    "import pandas as pd\n",
    "\n",
    "# 파일 경로 설정\n",
    "crop_path = f\"{item_nm}/{item_nm}요약데이터_관측지점추가.csv\"\n",
    "weather_path = \"기상/기상청_일기요소.csv\"\n",
    "output_path = f\"{item_nm}/{item_nm}요약데이터_기상병합완료.csv\"\n",
    "\n",
    "# 데이터 불러오기\n",
    "df_crop = pd.read_csv(crop_path, encoding='cp949')\n",
    "df_weather = pd.read_csv(weather_path, encoding='cp949')\n",
    "\n",
    "# 날짜 처리 → YYYYMMDD 문자열\n",
    "df_crop['연월일'] = pd.to_datetime(df_crop['연월일'], errors='coerce')\n",
    "df_crop['날짜'] = df_crop['연월일'].dt.strftime('%Y%m%d')\n",
    "\n",
    "df_weather['TM'] = pd.to_datetime(df_weather['TM'], errors='coerce')\n",
    "df_weather['날짜'] = df_weather['TM'].dt.strftime('%Y%m%d')\n",
    "\n",
    "# 관측지점/STN 모두 int로 통일 후 str 변환\n",
    "df_crop['관측지점'] = df_crop['관측지점'].astype('Int64').astype(str)\n",
    "df_weather['STN'] = df_weather['STN'].astype('Int64').astype(str)\n",
    "\n",
    "# 병합 키 생성\n",
    "df_crop['merge_key'] = df_crop['날짜'] + '_' + df_crop['관측지점']\n",
    "df_weather['merge_key'] = df_weather['날짜'] + '_' + df_weather['STN']\n",
    "\n",
    "# 날씨 컬럼 매핑\n",
    "weather_cols = {\n",
    "    'TA_AVG': '일평균기온',\n",
    "    'TA_MAX': '최고기온',\n",
    "    'TA_MIN': '최저기온',\n",
    "    'HM_AVG': '평균상대습도',\n",
    "    'RN_DAY': '강수량(mm)',\n",
    "    'RN_60M_MAX': '1시간최고강수량(mm)'\n",
    "}\n",
    "\n",
    "# 병합용 데이터 준비\n",
    "df_weather_subset = df_weather[['merge_key'] + list(weather_cols.keys())].copy()\n",
    "df_weather_subset.rename(columns=weather_cols, inplace=True)\n",
    "\n",
    "# 병합 수행\n",
    "df_merged = pd.merge(df_crop, df_weather_subset, on='merge_key', how='left')\n",
    "\n",
    "# 정리: 병합키 및 중간 날짜 컬럼 제거\n",
    "df_merged.drop(columns=['merge_key', '날짜'], inplace=True)\n",
    "\n",
    "# <NA> → 빈 문자열, NaN → 빈 문자열 처리\n",
    "df_merged.replace(\"<NA>\", \"\", inplace=True)\n",
    "df_merged.fillna(\"\", inplace=True)\n",
    "\n",
    "# 결과 저장\n",
    "df_merged.to_csv(output_path, index=False, encoding='cp949')"
   ]
  },
  {
   "cell_type": "code",
   "execution_count": 86,
   "id": "a37ec1d8",
   "metadata": {},
   "outputs": [
    {
     "name": "stderr",
     "output_type": "stream",
     "text": [
      "C:\\Users\\Admin\\AppData\\Local\\Temp\\ipykernel_6600\\1034814857.py:4: DtypeWarning: Columns (5) have mixed types. Specify dtype option on import or set low_memory=False.\n",
      "  df = pd.read_csv(f\"{item_nm}/{item_nm}요약데이터_기상병합완료.csv\", encoding='cp949')\n"
     ]
    }
   ],
   "source": [
    "import pandas as pd\n",
    "\n",
    "# 파일 불러오기\n",
    "df = pd.read_csv(f\"{item_nm}/{item_nm}요약데이터_기상병합완료.csv\", encoding='cp949')\n",
    "\n",
    "# 제거할 컬럼 리스트\n",
    "columns_to_drop = ['관측지점']\n",
    "df.drop(columns=columns_to_drop, inplace=True, errors='ignore')\n",
    "\n",
    "# 결과 저장\n",
    "df.to_csv(f\"{item_nm}/{item_nm}요약데이터_기상.csv\", index=False, encoding='cp949')"
   ]
  },
  {
   "cell_type": "code",
   "execution_count": 87,
   "id": "1dc339b2",
   "metadata": {},
   "outputs": [
    {
     "name": "stderr",
     "output_type": "stream",
     "text": [
      "C:\\Users\\Admin\\AppData\\Local\\Temp\\ipykernel_6600\\2231650891.py:3: DtypeWarning: Columns (5) have mixed types. Specify dtype option on import or set low_memory=False.\n",
      "  df = pd.read_csv(f\"{item_nm}/{item_nm}요약데이터_기상.csv\", encoding='cp949')\n"
     ]
    }
   ],
   "source": [
    "import pandas as pd\n",
    "\n",
    "df = pd.read_csv(f\"{item_nm}/{item_nm}요약데이터_기상.csv\", encoding='cp949')\n",
    "\n",
    "df = df[~(df['직팜산지코드'] == 1161)]\n",
    "\n",
    "df.to_csv(f\"{item_nm}/{item_nm}요약데이터_기상_수입산제거.csv\", index=False, encoding='cp949')"
   ]
  },
  {
   "cell_type": "code",
   "execution_count": 88,
   "id": "4d179190",
   "metadata": {},
   "outputs": [
    {
     "name": "stderr",
     "output_type": "stream",
     "text": [
      "C:\\Users\\Admin\\AppData\\Local\\Temp\\ipykernel_6600\\3086585174.py:4: DtypeWarning: Columns (5) have mixed types. Specify dtype option on import or set low_memory=False.\n",
      "  df = pd.read_csv(f\"{item_nm}/{item_nm}요약데이터_기상_수입산제거.csv\", encoding='cp949')\n"
     ]
    }
   ],
   "source": [
    "import pandas as pd\n",
    "\n",
    "# CSV 파일 불러오기\n",
    "df = pd.read_csv(f\"{item_nm}/{item_nm}요약데이터_기상_수입산제거.csv\", encoding='cp949')\n",
    "\n",
    "# 연월일을 datetime으로 변환\n",
    "df['연월일'] = pd.to_datetime(df['연월일'], errors='coerce')\n",
    "\n",
    "# 평균단가 컬럼 이름 자동 감지 (혹시 이름이 다를 경우 대비)\n",
    "column_name = '평균단가'\n",
    "if column_name not in df.columns:\n",
    "    column_name = df.columns[df.columns.str.contains('단가|가격')][0]\n",
    "\n",
    "# 날짜별 이상치 검출\n",
    "outlier_rows = []\n",
    "for date, group in df.groupby('연월일'):\n",
    "    if len(group) < 4:  # 너무 적은 그룹은 건너뜀\n",
    "        continue\n",
    "        \n",
    "    q1 = group[column_name].quantile(0.25)\n",
    "    q3 = group[column_name].quantile(0.75)\n",
    "    iqr = q3 - q1\n",
    "    lower = q1 - 1.5 * iqr\n",
    "    upper = q3 + 1.5 * iqr\n",
    "    outliers = group[(group[column_name] < lower) | (group[column_name] > upper)]\n",
    "    outlier_rows.append(outliers)\n",
    "\n",
    "# 이상치 모음\n",
    "datewise_outliers = pd.concat(outlier_rows, ignore_index=True)\n",
    "\n",
    "# 이상치 제거된 데이터셋 생성\n",
    "df_cleaned = df.drop(index=datewise_outliers.index)\n",
    "\n",
    "# (선택) CSV로 저장\n",
    "df_cleaned.to_csv(f\"{item_nm}/{item_nm}_이상치제거완료.csv\", index=False, encoding='cp949')"
   ]
  },
  {
   "cell_type": "code",
   "execution_count": null,
   "id": "f5bb02d6",
   "metadata": {},
   "outputs": [],
   "source": []
  }
 ],
 "metadata": {
  "kernelspec": {
   "display_name": "ml-dl-nlp",
   "language": "python",
   "name": "ml-dl-nlp"
  },
  "language_info": {
   "codemirror_mode": {
    "name": "ipython",
    "version": 3
   },
   "file_extension": ".py",
   "mimetype": "text/x-python",
   "name": "python",
   "nbconvert_exporter": "python",
   "pygments_lexer": "ipython3",
   "version": "3.10.18"
  },
  "toc": {
   "base_numbering": 1,
   "nav_menu": {},
   "number_sections": false,
   "sideBar": true,
   "skip_h1_title": false,
   "title_cell": "Table of Contents",
   "title_sidebar": "Contents",
   "toc_cell": false,
   "toc_position": {},
   "toc_section_display": true,
   "toc_window_display": false
  }
 },
 "nbformat": 4,
 "nbformat_minor": 5
}
