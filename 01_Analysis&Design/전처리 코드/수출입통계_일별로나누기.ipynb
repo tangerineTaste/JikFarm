{
 "cells": [
  {
   "cell_type": "code",
   "execution_count": null,
   "id": "8d4a45f2",
   "metadata": {},
   "outputs": [
    {
     "name": "stdout",
     "output_type": "stream",
     "text": [
      "✅ 완료! 파일명: 양파_일별_수출입.csv\n"
     ]
    }
   ],
   "source": [
    "## 수출입 통계를 일별로 변환하기 전에 2018년 이전 데이터는 삭제요청\n",
    "\n",
    "import pandas as pd\n",
    "import calendar\n",
    "\n",
    "# 1️⃣ CSV 불러오기\n",
    "df = pd.read_csv(\"../data/양파수출입원본.csv\")  # 파일명은 필요 시 수정\n",
    "\n",
    "# 2️⃣ '합' 행 제거\n",
    "df = df[df['월'] != '합']\n",
    "\n",
    "# 3️⃣ 쉼표 제거\n",
    "cols_to_clean = ['수출(중량)', '수출(금액)', '수입(중량)', '수입(금액)']\n",
    "for col in cols_to_clean:\n",
    "    df[col] = df[col].astype(str).str.replace(',', '', regex=True)\n",
    "\n",
    "# 4️⃣ 숫자형 변환\n",
    "df['년도'] = df['년도'].astype(float).astype(int)\n",
    "df['월'] = df['월'].astype(float).astype(int)\n",
    "for col in cols_to_clean:\n",
    "    df[col] = pd.to_numeric(df[col], errors='coerce').fillna(0)\n",
    "\n",
    "# 5️⃣ 일별 데이터 생성\n",
    "rows = []\n",
    "\n",
    "for _, row in df.iterrows():\n",
    "    year = int(row['년도'])\n",
    "    month = int(row['월'])\n",
    "    last_day = calendar.monthrange(year, month)[1]\n",
    "\n",
    "    export_weight_per_day = row['수출(중량)'] / last_day\n",
    "    export_value_per_day  = row['수출(금액)'] / last_day\n",
    "    import_weight_per_day = row['수입(중량)'] / last_day\n",
    "    import_value_per_day  = row['수입(금액)'] / last_day\n",
    "\n",
    "    for day in range(1, last_day + 1):\n",
    "        date_str = f\"{year}-{month:02d}-{day:02d}\"\n",
    "        rows.append({\n",
    "            '날짜': date_str,\n",
    "            '수출(중량)': export_weight_per_day,\n",
    "            '수출(금액)': export_value_per_day,\n",
    "            '수입(중량)': import_weight_per_day,\n",
    "            '수입(금액)': import_value_per_day\n",
    "        })\n",
    "\n",
    "# 6️⃣ DataFrame 생성\n",
    "df_daily = pd.DataFrame(rows)\n",
    "\n",
    "# 7️⃣ CSV 저장\n",
    "df_daily.to_csv(\"../data/양파_일별_수출입.csv\", index=False, encoding='utf-8-sig')\n",
    "\n",
    "print(\"✅ 완료! 파일명: 양파_일별_수출입.csv\")\n"
   ]
  },
  {
   "cell_type": "code",
   "execution_count": null,
   "id": "326a8971",
   "metadata": {},
   "outputs": [],
   "source": []
  },
  {
   "cell_type": "code",
   "execution_count": null,
   "id": "e243fb50",
   "metadata": {},
   "outputs": [],
   "source": []
  },
  {
   "cell_type": "code",
   "execution_count": null,
   "id": "1cd69559",
   "metadata": {},
   "outputs": [],
   "source": []
  },
  {
   "cell_type": "code",
   "execution_count": null,
   "id": "5b31c023",
   "metadata": {},
   "outputs": [],
   "source": []
  },
  {
   "cell_type": "code",
   "execution_count": null,
   "id": "04bb98bc",
   "metadata": {},
   "outputs": [],
   "source": []
  }
 ],
 "metadata": {
  "kernelspec": {
   "display_name": "jikfam",
   "language": "python",
   "name": "python3"
  },
  "language_info": {
   "codemirror_mode": {
    "name": "ipython",
    "version": 3
   },
   "file_extension": ".py",
   "mimetype": "text/x-python",
   "name": "python",
   "nbconvert_exporter": "python",
   "pygments_lexer": "ipython3",
   "version": "3.10.18"
  }
 },
 "nbformat": 4,
 "nbformat_minor": 5
}
