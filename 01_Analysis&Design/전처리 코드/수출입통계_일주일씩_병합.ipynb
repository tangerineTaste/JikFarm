{
 "cells": [
  {
   "cell_type": "code",
   "execution_count": 1,
   "id": "3117fe1c",
   "metadata": {},
   "outputs": [],
   "source": [
    "import pandas as pd\n",
    "from split_to_week import get_week_of_year"
   ]
  },
  {
   "cell_type": "code",
   "execution_count": 2,
   "id": "7e3ef886",
   "metadata": {},
   "outputs": [],
   "source": [
    "df = pd.read_csv('C:/Users/Admin/Desktop/JikFarm/data/양파_일별_수출입.csv')"
   ]
  },
  {
   "cell_type": "code",
   "execution_count": 3,
   "id": "e2749a89",
   "metadata": {},
   "outputs": [],
   "source": [
    "df['날짜'] = pd.to_datetime(df['날짜'])"
   ]
  },
  {
   "cell_type": "code",
   "execution_count": 4,
   "id": "d14b6239",
   "metadata": {},
   "outputs": [],
   "source": [
    "df.set_index('날짜', inplace=True)"
   ]
  },
  {
   "cell_type": "code",
   "execution_count": 5,
   "id": "a699e950",
   "metadata": {},
   "outputs": [],
   "source": [
    "weekly_avg_df = df[['수출(중량)', '수출(금액)', '수입(중량)', '수입(금액)']].resample('W').mean()\n",
    "weekly_avg_df = weekly_avg_df.reset_index()\n",
    "weekly_avg_df['날짜'] = weekly_avg_df['날짜'].apply(get_week_of_year)"
   ]
  },
  {
   "cell_type": "code",
   "execution_count": 6,
   "id": "f376d988",
   "metadata": {},
   "outputs": [
    {
     "data": {
      "text/html": [
       "<div>\n",
       "<style scoped>\n",
       "    .dataframe tbody tr th:only-of-type {\n",
       "        vertical-align: middle;\n",
       "    }\n",
       "\n",
       "    .dataframe tbody tr th {\n",
       "        vertical-align: top;\n",
       "    }\n",
       "\n",
       "    .dataframe thead th {\n",
       "        text-align: right;\n",
       "    }\n",
       "</style>\n",
       "<table border=\"1\" class=\"dataframe\">\n",
       "  <thead>\n",
       "    <tr style=\"text-align: right;\">\n",
       "      <th></th>\n",
       "      <th>날짜</th>\n",
       "      <th>수출(중량)</th>\n",
       "      <th>수출(금액)</th>\n",
       "      <th>수입(중량)</th>\n",
       "      <th>수입(금액)</th>\n",
       "    </tr>\n",
       "  </thead>\n",
       "  <tbody>\n",
       "    <tr>\n",
       "      <th>0</th>\n",
       "      <td>2018년 1째주</td>\n",
       "      <td>86.290323</td>\n",
       "      <td>109.645161</td>\n",
       "      <td>433945.551613</td>\n",
       "      <td>155740.064516</td>\n",
       "    </tr>\n",
       "    <tr>\n",
       "      <th>1</th>\n",
       "      <td>2018년 2째주</td>\n",
       "      <td>86.290323</td>\n",
       "      <td>109.645161</td>\n",
       "      <td>433945.551613</td>\n",
       "      <td>155740.064516</td>\n",
       "    </tr>\n",
       "    <tr>\n",
       "      <th>2</th>\n",
       "      <td>2018년 3째주</td>\n",
       "      <td>86.290323</td>\n",
       "      <td>109.645161</td>\n",
       "      <td>433945.551613</td>\n",
       "      <td>155740.064516</td>\n",
       "    </tr>\n",
       "    <tr>\n",
       "      <th>3</th>\n",
       "      <td>2018년 4째주</td>\n",
       "      <td>86.290323</td>\n",
       "      <td>109.645161</td>\n",
       "      <td>433945.551613</td>\n",
       "      <td>155740.064516</td>\n",
       "    </tr>\n",
       "    <tr>\n",
       "      <th>4</th>\n",
       "      <td>2018년 5째주</td>\n",
       "      <td>81.165240</td>\n",
       "      <td>109.215273</td>\n",
       "      <td>371457.764977</td>\n",
       "      <td>132144.741935</td>\n",
       "    </tr>\n",
       "    <tr>\n",
       "      <th>...</th>\n",
       "      <td>...</td>\n",
       "      <td>...</td>\n",
       "      <td>...</td>\n",
       "      <td>...</td>\n",
       "      <td>...</td>\n",
       "    </tr>\n",
       "    <tr>\n",
       "      <th>382</th>\n",
       "      <td>2025년 18째주</td>\n",
       "      <td>48.451613</td>\n",
       "      <td>84.094931</td>\n",
       "      <td>298680.219217</td>\n",
       "      <td>124197.647926</td>\n",
       "    </tr>\n",
       "    <tr>\n",
       "      <th>383</th>\n",
       "      <td>2025년 19째주</td>\n",
       "      <td>77.290323</td>\n",
       "      <td>136.516129</td>\n",
       "      <td>178972.516129</td>\n",
       "      <td>80519.483871</td>\n",
       "    </tr>\n",
       "    <tr>\n",
       "      <th>384</th>\n",
       "      <td>2025년 20째주</td>\n",
       "      <td>77.290323</td>\n",
       "      <td>136.516129</td>\n",
       "      <td>178972.516129</td>\n",
       "      <td>80519.483871</td>\n",
       "    </tr>\n",
       "    <tr>\n",
       "      <th>385</th>\n",
       "      <td>2025년 21째주</td>\n",
       "      <td>77.290323</td>\n",
       "      <td>136.516129</td>\n",
       "      <td>178972.516129</td>\n",
       "      <td>80519.483871</td>\n",
       "    </tr>\n",
       "    <tr>\n",
       "      <th>386</th>\n",
       "      <td>2025년 22째주</td>\n",
       "      <td>77.290323</td>\n",
       "      <td>136.516129</td>\n",
       "      <td>178972.516129</td>\n",
       "      <td>80519.483871</td>\n",
       "    </tr>\n",
       "  </tbody>\n",
       "</table>\n",
       "<p>387 rows × 5 columns</p>\n",
       "</div>"
      ],
      "text/plain": [
       "             날짜     수출(중량)      수출(금액)         수입(중량)         수입(금액)\n",
       "0     2018년 1째주  86.290323  109.645161  433945.551613  155740.064516\n",
       "1     2018년 2째주  86.290323  109.645161  433945.551613  155740.064516\n",
       "2     2018년 3째주  86.290323  109.645161  433945.551613  155740.064516\n",
       "3     2018년 4째주  86.290323  109.645161  433945.551613  155740.064516\n",
       "4     2018년 5째주  81.165240  109.215273  371457.764977  132144.741935\n",
       "..          ...        ...         ...            ...            ...\n",
       "382  2025년 18째주  48.451613   84.094931  298680.219217  124197.647926\n",
       "383  2025년 19째주  77.290323  136.516129  178972.516129   80519.483871\n",
       "384  2025년 20째주  77.290323  136.516129  178972.516129   80519.483871\n",
       "385  2025년 21째주  77.290323  136.516129  178972.516129   80519.483871\n",
       "386  2025년 22째주  77.290323  136.516129  178972.516129   80519.483871\n",
       "\n",
       "[387 rows x 5 columns]"
      ]
     },
     "execution_count": 6,
     "metadata": {},
     "output_type": "execute_result"
    }
   ],
   "source": [
    "weekly_avg_df"
   ]
  }
 ],
 "metadata": {
  "kernelspec": {
   "display_name": "ml-dl-nlp",
   "language": "python",
   "name": "python3"
  },
  "language_info": {
   "codemirror_mode": {
    "name": "ipython",
    "version": 3
   },
   "file_extension": ".py",
   "mimetype": "text/x-python",
   "name": "python",
   "nbconvert_exporter": "python",
   "pygments_lexer": "ipython3",
   "version": "3.10.18"
  }
 },
 "nbformat": 4,
 "nbformat_minor": 5
}
