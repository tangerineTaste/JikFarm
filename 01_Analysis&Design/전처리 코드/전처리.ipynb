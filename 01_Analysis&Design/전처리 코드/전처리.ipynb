{
 "cells": [
  {
   "cell_type": "code",
   "execution_count": 6,
   "id": "db09950c",
   "metadata": {},
   "outputs": [
    {
     "name": "stderr",
     "output_type": "stream",
     "text": [
      "C:\\Users\\Admin\\AppData\\Local\\Temp\\ipykernel_12424\\627088003.py:7: DtypeWarning: Columns (13) have mixed types. Specify dtype option on import or set low_memory=False.\n",
      "  df = pd.read_csv(file_path, encoding='ansi')\n"
     ]
    },
    {
     "name": "stdout",
     "output_type": "stream",
     "text": [
      "         Unnamed: 0  ROW_NUM  SALEDATE  WHSALCD WHSALNAME     CMPCD  CMPNAME  \\\n",
      "0                 0        1  20240502   110008      서울강서  11000802    서부청과㈜   \n",
      "1                 1        2  20240502   110008      서울강서  11000801  농협강서(공)   \n",
      "2                 2        3  20240502   110008      서울강서  11000801  농협강서(공)   \n",
      "3                 3        4  20240502   110008      서울강서  11000801  농협강서(공)   \n",
      "4                 4        5  20240502   110008      서울강서  11000801  농협강서(공)   \n",
      "...             ...      ...       ...      ...       ...       ...      ...   \n",
      "1484377     1484377       36  20250531   110001      서울가락  11000104    동화청과㈜   \n",
      "1484378     1484378       37  20250531   110001      서울가락  11000104    동화청과㈜   \n",
      "1484379     1484379       38  20250531   110001      서울가락  11000104    동화청과㈜   \n",
      "1484380     1484380       39  20250531   110001      서울가락  11000104    동화청과㈜   \n",
      "1484381     1484381       40  20250531   110001      서울가락  11000104    동화청과㈜   \n",
      "\n",
      "         LARGE LARGENAME  MID MIDNAME SMALL SMALLNAME   SANCD   SANNAME  \\\n",
      "0            6       과실류    1      사과    40       미얀마  760000  경상북도 안동시   \n",
      "1            6       과실류    1      사과    39       미시마  770000  경상북도 영천시   \n",
      "2            6       과실류    1      사과    39       미시마  770000  경상북도 영천시   \n",
      "3            6       과실류    1      사과    39       미시마  770000  경상북도 영천시   \n",
      "4            6       과실류    1      사과    39       미시마  770000  경상북도 영천시   \n",
      "...        ...       ...  ...     ...   ...       ...     ...       ...   \n",
      "1484377      6       과실류    1      사과    03        후지  769000  경상북도 의성군   \n",
      "1484378      6       과실류    1      사과    39       미시마  763000  경상북도 청송군   \n",
      "1484379      6       과실류    1      사과    39       미시마  763000  경상북도 청송군   \n",
      "1484380      6       과실류    1      사과    39       미시마  763000  경상북도 청송군   \n",
      "1484381      6       과실류    1      사과    39       미시마  763000  경상북도 청송군   \n",
      "\n",
      "             COST   QTY         STD             SBIDTIME  \n",
      "0         50500.0  48.0     10kg 상자  2024-05-02 03:38:56  \n",
      "1         83000.0  13.0     10kg 상자  2024-05-02 03:38:44  \n",
      "2         88000.0  15.0     10kg 상자  2024-05-02 03:38:34  \n",
      "3         90000.0   9.0     10kg 상자  2024-05-02 03:38:24  \n",
      "4        101000.0   2.0     10kg 상자  2024-05-02 03:38:12  \n",
      "...           ...   ...         ...                  ...  \n",
      "1484377   48000.0  36.0  10.000kg상자  2025-05-31 03:56:59  \n",
      "1484378  170000.0  20.0  10.000kg상자  2025-05-31 07:31:20  \n",
      "1484379  160000.0  20.0  10.000kg상자  2025-05-31 07:31:20  \n",
      "1484380  150000.0  25.0  10.000kg상자  2025-05-31 07:31:20  \n",
      "1484381  139000.0  26.0  10.000kg상자  2025-05-31 07:31:20  \n",
      "\n",
      "[1484382 rows x 19 columns]\n",
      "저장 완료: C:/ai_x/job/data/사과/경락정보/경락정보_사과.csv\n"
     ]
    },
    {
     "ename": "ValueError",
     "evalue": "This sheet is too large! Your sheet size is: 1484382, 19 Max sheet size is: 1048576, 16384",
     "output_type": "error",
     "traceback": [
      "\u001b[1;31m---------------------------------------------------------------------------\u001b[0m",
      "\u001b[1;31mValueError\u001b[0m                                Traceback (most recent call last)",
      "Cell \u001b[1;32mIn[6], line 19\u001b[0m\n\u001b[0;32m     17\u001b[0m \u001b[38;5;66;03m# 엑셀 저장\u001b[39;00m\n\u001b[0;32m     18\u001b[0m excel_path \u001b[38;5;241m=\u001b[39m file_path\u001b[38;5;241m.\u001b[39mreplace(\u001b[38;5;124m'\u001b[39m\u001b[38;5;124m.csv\u001b[39m\u001b[38;5;124m'\u001b[39m, \u001b[38;5;124m'\u001b[39m\u001b[38;5;124m.xlsx\u001b[39m\u001b[38;5;124m'\u001b[39m)\n\u001b[1;32m---> 19\u001b[0m \u001b[43mdf\u001b[49m\u001b[38;5;241;43m.\u001b[39;49m\u001b[43mto_excel\u001b[49m\u001b[43m(\u001b[49m\u001b[43mexcel_path\u001b[49m\u001b[43m,\u001b[49m\u001b[43m \u001b[49m\u001b[43mindex\u001b[49m\u001b[38;5;241;43m=\u001b[39;49m\u001b[38;5;28;43;01mFalse\u001b[39;49;00m\u001b[43m)\u001b[49m\n\u001b[0;32m     20\u001b[0m \u001b[38;5;28mprint\u001b[39m(\u001b[38;5;124mf\u001b[39m\u001b[38;5;124m\"\u001b[39m\u001b[38;5;124m저장 완료: \u001b[39m\u001b[38;5;132;01m{\u001b[39;00mfile_path\u001b[38;5;132;01m}\u001b[39;00m\u001b[38;5;124m → \u001b[39m\u001b[38;5;132;01m{\u001b[39;00mexcel_path\u001b[38;5;132;01m}\u001b[39;00m\u001b[38;5;124m\"\u001b[39m)\n",
      "File \u001b[1;32m~\\anaconda3\\envs\\ml-dl-nlp\\lib\\site-packages\\pandas\\util\\_decorators.py:211\u001b[0m, in \u001b[0;36mdeprecate_kwarg.<locals>._deprecate_kwarg.<locals>.wrapper\u001b[1;34m(*args, **kwargs)\u001b[0m\n\u001b[0;32m    209\u001b[0m     \u001b[38;5;28;01melse\u001b[39;00m:\n\u001b[0;32m    210\u001b[0m         kwargs[new_arg_name] \u001b[38;5;241m=\u001b[39m new_arg_value\n\u001b[1;32m--> 211\u001b[0m \u001b[38;5;28;01mreturn\u001b[39;00m func(\u001b[38;5;241m*\u001b[39margs, \u001b[38;5;241m*\u001b[39m\u001b[38;5;241m*\u001b[39mkwargs)\n",
      "File \u001b[1;32m~\\anaconda3\\envs\\ml-dl-nlp\\lib\\site-packages\\pandas\\util\\_decorators.py:211\u001b[0m, in \u001b[0;36mdeprecate_kwarg.<locals>._deprecate_kwarg.<locals>.wrapper\u001b[1;34m(*args, **kwargs)\u001b[0m\n\u001b[0;32m    209\u001b[0m     \u001b[38;5;28;01melse\u001b[39;00m:\n\u001b[0;32m    210\u001b[0m         kwargs[new_arg_name] \u001b[38;5;241m=\u001b[39m new_arg_value\n\u001b[1;32m--> 211\u001b[0m \u001b[38;5;28;01mreturn\u001b[39;00m func(\u001b[38;5;241m*\u001b[39margs, \u001b[38;5;241m*\u001b[39m\u001b[38;5;241m*\u001b[39mkwargs)\n",
      "File \u001b[1;32m~\\anaconda3\\envs\\ml-dl-nlp\\lib\\site-packages\\pandas\\core\\generic.py:2374\u001b[0m, in \u001b[0;36mNDFrame.to_excel\u001b[1;34m(self, excel_writer, sheet_name, na_rep, float_format, columns, header, index, index_label, startrow, startcol, engine, merge_cells, encoding, inf_rep, verbose, freeze_panes, storage_options)\u001b[0m\n\u001b[0;32m   2361\u001b[0m \u001b[38;5;28;01mfrom\u001b[39;00m\u001b[38;5;250m \u001b[39m\u001b[38;5;21;01mpandas\u001b[39;00m\u001b[38;5;21;01m.\u001b[39;00m\u001b[38;5;21;01mio\u001b[39;00m\u001b[38;5;21;01m.\u001b[39;00m\u001b[38;5;21;01mformats\u001b[39;00m\u001b[38;5;21;01m.\u001b[39;00m\u001b[38;5;21;01mexcel\u001b[39;00m\u001b[38;5;250m \u001b[39m\u001b[38;5;28;01mimport\u001b[39;00m ExcelFormatter\n\u001b[0;32m   2363\u001b[0m formatter \u001b[38;5;241m=\u001b[39m ExcelFormatter(\n\u001b[0;32m   2364\u001b[0m     df,\n\u001b[0;32m   2365\u001b[0m     na_rep\u001b[38;5;241m=\u001b[39mna_rep,\n\u001b[1;32m   (...)\u001b[0m\n\u001b[0;32m   2372\u001b[0m     inf_rep\u001b[38;5;241m=\u001b[39minf_rep,\n\u001b[0;32m   2373\u001b[0m )\n\u001b[1;32m-> 2374\u001b[0m \u001b[43mformatter\u001b[49m\u001b[38;5;241;43m.\u001b[39;49m\u001b[43mwrite\u001b[49m\u001b[43m(\u001b[49m\n\u001b[0;32m   2375\u001b[0m \u001b[43m    \u001b[49m\u001b[43mexcel_writer\u001b[49m\u001b[43m,\u001b[49m\n\u001b[0;32m   2376\u001b[0m \u001b[43m    \u001b[49m\u001b[43msheet_name\u001b[49m\u001b[38;5;241;43m=\u001b[39;49m\u001b[43msheet_name\u001b[49m\u001b[43m,\u001b[49m\n\u001b[0;32m   2377\u001b[0m \u001b[43m    \u001b[49m\u001b[43mstartrow\u001b[49m\u001b[38;5;241;43m=\u001b[39;49m\u001b[43mstartrow\u001b[49m\u001b[43m,\u001b[49m\n\u001b[0;32m   2378\u001b[0m \u001b[43m    \u001b[49m\u001b[43mstartcol\u001b[49m\u001b[38;5;241;43m=\u001b[39;49m\u001b[43mstartcol\u001b[49m\u001b[43m,\u001b[49m\n\u001b[0;32m   2379\u001b[0m \u001b[43m    \u001b[49m\u001b[43mfreeze_panes\u001b[49m\u001b[38;5;241;43m=\u001b[39;49m\u001b[43mfreeze_panes\u001b[49m\u001b[43m,\u001b[49m\n\u001b[0;32m   2380\u001b[0m \u001b[43m    \u001b[49m\u001b[43mengine\u001b[49m\u001b[38;5;241;43m=\u001b[39;49m\u001b[43mengine\u001b[49m\u001b[43m,\u001b[49m\n\u001b[0;32m   2381\u001b[0m \u001b[43m    \u001b[49m\u001b[43mstorage_options\u001b[49m\u001b[38;5;241;43m=\u001b[39;49m\u001b[43mstorage_options\u001b[49m\u001b[43m,\u001b[49m\n\u001b[0;32m   2382\u001b[0m \u001b[43m\u001b[49m\u001b[43m)\u001b[49m\n",
      "File \u001b[1;32m~\\anaconda3\\envs\\ml-dl-nlp\\lib\\site-packages\\pandas\\io\\formats\\excel.py:933\u001b[0m, in \u001b[0;36mExcelFormatter.write\u001b[1;34m(self, writer, sheet_name, startrow, startcol, freeze_panes, engine, storage_options)\u001b[0m\n\u001b[0;32m    931\u001b[0m num_rows, num_cols \u001b[38;5;241m=\u001b[39m \u001b[38;5;28mself\u001b[39m\u001b[38;5;241m.\u001b[39mdf\u001b[38;5;241m.\u001b[39mshape\n\u001b[0;32m    932\u001b[0m \u001b[38;5;28;01mif\u001b[39;00m num_rows \u001b[38;5;241m>\u001b[39m \u001b[38;5;28mself\u001b[39m\u001b[38;5;241m.\u001b[39mmax_rows \u001b[38;5;129;01mor\u001b[39;00m num_cols \u001b[38;5;241m>\u001b[39m \u001b[38;5;28mself\u001b[39m\u001b[38;5;241m.\u001b[39mmax_cols:\n\u001b[1;32m--> 933\u001b[0m     \u001b[38;5;28;01mraise\u001b[39;00m \u001b[38;5;167;01mValueError\u001b[39;00m(\n\u001b[0;32m    934\u001b[0m         \u001b[38;5;124mf\u001b[39m\u001b[38;5;124m\"\u001b[39m\u001b[38;5;124mThis sheet is too large! Your sheet size is: \u001b[39m\u001b[38;5;132;01m{\u001b[39;00mnum_rows\u001b[38;5;132;01m}\u001b[39;00m\u001b[38;5;124m, \u001b[39m\u001b[38;5;132;01m{\u001b[39;00mnum_cols\u001b[38;5;132;01m}\u001b[39;00m\u001b[38;5;124m \u001b[39m\u001b[38;5;124m\"\u001b[39m\n\u001b[0;32m    935\u001b[0m         \u001b[38;5;124mf\u001b[39m\u001b[38;5;124m\"\u001b[39m\u001b[38;5;124mMax sheet size is: \u001b[39m\u001b[38;5;132;01m{\u001b[39;00m\u001b[38;5;28mself\u001b[39m\u001b[38;5;241m.\u001b[39mmax_rows\u001b[38;5;132;01m}\u001b[39;00m\u001b[38;5;124m, \u001b[39m\u001b[38;5;132;01m{\u001b[39;00m\u001b[38;5;28mself\u001b[39m\u001b[38;5;241m.\u001b[39mmax_cols\u001b[38;5;132;01m}\u001b[39;00m\u001b[38;5;124m\"\u001b[39m\n\u001b[0;32m    936\u001b[0m     )\n\u001b[0;32m    938\u001b[0m formatted_cells \u001b[38;5;241m=\u001b[39m \u001b[38;5;28mself\u001b[39m\u001b[38;5;241m.\u001b[39mget_formatted_cells()\n\u001b[0;32m    939\u001b[0m \u001b[38;5;28;01mif\u001b[39;00m \u001b[38;5;28misinstance\u001b[39m(writer, ExcelWriter):\n",
      "\u001b[1;31mValueError\u001b[0m: This sheet is too large! Your sheet size is: 1484382, 19 Max sheet size is: 1048576, 16384"
     ]
    }
   ],
   "source": [
    "import pandas as pd\n",
    "\n",
    "# CSV 파일 경로\n",
    "file_path = \"C:/ai_x/job/data/사과/경락정보/경락정보_사과.csv\"\n",
    "\n",
    "# CSV 파일 전체 읽기\n",
    "df = pd.read_csv(file_path, encoding='ansi')\n",
    "\n",
    "# 예시: 행 범위와 열 범위 추출\n",
    "subset = df.iloc[:]  # 2~4행, 3~5열 추출\n",
    "print(subset)\n",
    "\n",
    "# CSV 저장\n",
    "df.to_csv(file_path, index=False, encoding='utf-8')\n",
    "print(f\"저장 완료: {file_path}\")\n",
    "\n",
    "# 엑셀 저장\n",
    "excel_path = file_path.replace('.csv', '.xlsx')\n",
    "df.to_excel(excel_path, index=False)\n",
    "print(f\"저장 완료: {file_path} → {excel_path}\")"
   ]
  },
  {
   "cell_type": "code",
   "execution_count": 134,
   "id": "bda5fe5d",
   "metadata": {},
   "outputs": [
    {
     "name": "stdout",
     "output_type": "stream",
     "text": [
      "저장 완료: C:/ai_x/job/data/쌀/생산량 및 면적/쌀_면적.csv → C:/ai_x/job/data/쌀/생산량 및 면적/쌀_면적.xlsx\n"
     ]
    }
   ],
   "source": [
    "import pandas as pd\n",
    "\n",
    "# 파일 목록\n",
    "file_list = [\n",
    "    \"C:/ai_x/job/data/쌀/생산량 및 면적/미곡생산량_백미_생산량.csv\",\n",
    "    \"C:/ai_x/job/data/쌀/생산량 및 면적/미곡생산량_현미_생산량.csv\",\n",
    "    \"C:/ai_x/job/data/쌀/생산량 및 면적/미곡생산량_조곡_생산량.csv\"\n",
    "]\n",
    "\n",
    "for file_path in file_list:\n",
    "    # CSV 읽기\n",
    "    df = pd.read_csv(file_path, encoding='utf-8')\n",
    "    \n",
    "    # 첫 번째 행 삭제\n",
    "    df = df.iloc[1:].reset_index(drop=True)\n",
    "\n",
    "    # '시도별' → '연도'\n",
    "    df.rename(columns={'시도별': '연도'}, inplace=True)\n",
    "\n",
    "    # 문자열 '-' → 숫자 0으로 변환\n",
    "    df.replace('-', 0, inplace=True)\n",
    "    \n",
    "    # NaN을 0으로 대체\n",
    "    df.fillna(0, inplace=True)\n",
    "\n",
    "    # 숫자형으로 변환 (선택: '-'가 문자열이라 숫자형으로 다시 바꿔야 할 수도 있음)\n",
    "    df = df.apply(pd.to_numeric, errors='ignore')\n",
    "    \n",
    "    # CSV 저장\n",
    "    df.to_csv(file_path, index=False, encoding='utf-8')\n",
    "\n",
    "    # 엑셀 저장\n",
    "    excel_path = file_path.replace('.csv', '.xlsx')\n",
    "    df.to_excel(excel_path, index=False)\n",
    "\n",
    "    print(f\"저장 완료: {file_path} → {excel_path}\")"
   ]
  },
  {
   "cell_type": "code",
   "execution_count": 117,
   "id": "f49790f6",
   "metadata": {},
   "outputs": [
    {
     "name": "stdout",
     "output_type": "stream",
     "text": [
      "처리 중: C:/ai_x/job/data/상추/생산량 및 면적/상추_면적.csv\n",
      "✔ 저장 완료:\n",
      "- CSV 덮어쓰기: C:/ai_x/job/data/상추/생산량 및 면적/상추_면적.csv\n",
      "- 엑셀 저장: C:/ai_x/job/data/상추/생산량 및 면적/상추_면적.xlsx\n",
      "처리 중: C:/ai_x/job/data/상추/생산량 및 면적/상추_생산량.csv\n",
      "✔ 저장 완료:\n",
      "- CSV 덮어쓰기: C:/ai_x/job/data/상추/생산량 및 면적/상추_생산량.csv\n",
      "- 엑셀 저장: C:/ai_x/job/data/상추/생산량 및 면적/상추_생산량.xlsx\n"
     ]
    }
   ],
   "source": [
    "import pandas as pd\n",
    "import re\n",
    "\n",
    "# 처리할 파일 목록\n",
    "file_list = [\n",
    "    \"C:/ai_x/job/data/상추/생산량 및 면적/상추_면적.csv\",\n",
    "    \"C:/ai_x/job/data/상추/생산량 및 면적/상추_생산량.csv\"\n",
    "]\n",
    "\n",
    "# 연도 추출 함수\n",
    "def extract_year(col):\n",
    "    match = re.match(r'^(\\d{4})', str(col))\n",
    "    return match.group(1) if match else col\n",
    "\n",
    "# 파일별 반복 처리\n",
    "for file_path in file_list:\n",
    "    print(f\"처리 중: {file_path}\")\n",
    "\n",
    "    # CSV 읽기\n",
    "    df = pd.read_csv(file_path, encoding='utf-8')\n",
    "\n",
    "    # 연도별 열 그룹핑 및 합산\n",
    "    grouped_cols = {}\n",
    "    for col in df.columns:\n",
    "        new_col = extract_year(col)\n",
    "        grouped_cols.setdefault(new_col, []).append(col)\n",
    "\n",
    "    # 새로운 DataFrame 생성\n",
    "    new_df = pd.DataFrame()\n",
    "    for new_col, cols in grouped_cols.items():\n",
    "        if new_col == '연도':\n",
    "            new_df[new_col] = df[new_col]\n",
    "        else:\n",
    "            new_df[new_col] = df[cols].astype(float).sum(axis=1)\n",
    "\n",
    "     # 저장: CSV (덮어쓰기)\n",
    "    new_df.to_csv(file_path, index=False, encoding='utf-8')\n",
    "\n",
    "    # 저장: Excel (같은 이름, 확장자만 변경)\n",
    "    excel_path = file_path.replace('.csv', '.xlsx')\n",
    "    new_df.to_excel(excel_path, index=False)\n",
    "\n",
    "    print(f\"✔ 저장 완료:\\n- CSV 덮어쓰기: {file_path}\\n- 엑셀 저장: {excel_path}\")"
   ]
  },
  {
   "cell_type": "code",
   "execution_count": 131,
   "id": "a774855c",
   "metadata": {},
   "outputs": [
    {
     "name": "stdout",
     "output_type": "stream",
     "text": [
      "✅ 위치 기준 전체 셀 합산 완료\n",
      "- CSV:   C:/ai_x/job/data/쌀/생산량 및 면적/쌀_생산량.csv\n",
      "- 엑셀:  C:/ai_x/job/data/쌀/생산량 및 면적/쌀_생산량.xlsx\n"
     ]
    }
   ],
   "source": [
    "import pandas as pd\n",
    "\n",
    "# 경로 설정\n",
    "base_path = \"C:/ai_x/job/data/쌀/생산량 및 면적/\"\n",
    "\n",
    "# 파일 읽기\n",
    "백미 = pd.read_csv(base_path + \"미곡생산량_백미_면적.csv\", encoding='utf-8')\n",
    "현미 = pd.read_csv(base_path + \"미곡생산량_현미_면적.csv\", encoding='utf-8')\n",
    "조곡 = pd.read_csv(base_path + \"미곡생산량_조곡_면적.csv\", encoding='utf-8')\n",
    "\n",
    "# '-' → 0, NaN → 0, 숫자형 변환\n",
    "for df in [백미, 현미, 조곡]:\n",
    "    df.replace('-', 0, inplace=True)\n",
    "    df.fillna(0, inplace=True)\n",
    "    df.iloc[:, 1:] = df.iloc[:, 1:].apply(pd.to_numeric, errors='coerce')\n",
    "\n",
    "# 쌀 = 백미 + 현미 + 조곡 (숫자 부분만)\n",
    "# 문자열(예: '시도별')이 있는 첫 열은 제외하고 숫자만 더함\n",
    "meta_col = 백미.columns[0]  # 예: '시도별' 또는 '연도'\n",
    "numeric_cols = 백미.columns[1:]\n",
    "\n",
    "# 결과 프레임 구성\n",
    "쌀 = 백미.copy()\n",
    "쌀[numeric_cols] = (\n",
    "    백미[numeric_cols] +\n",
    "    현미[numeric_cols] +\n",
    "    조곡[numeric_cols]\n",
    ")\n",
    "\n",
    "# 저장\n",
    "csv_path = base_path + \"쌀_면적.csv\"\n",
    "excel_path = csv_path.replace(\".csv\", \".xlsx\")\n",
    "\n",
    "쌀.to_csv(csv_path, index=False, encoding='utf-8')\n",
    "쌀.to_excel(excel_path, index=False)\n",
    "\n",
    "print(\"✅ 위치 기준 전체 셀 합산 완료\")\n",
    "print(f\"- CSV:   {csv_path}\")\n",
    "print(f\"- 엑셀:  {excel_path}\")"
   ]
  },
  {
   "cell_type": "code",
   "execution_count": 1,
   "id": "25867950",
   "metadata": {},
   "outputs": [],
   "source": [
    "import pandas as pd\n",
    "df = pd.read_csv(\"../모델링/data/상추요약데이터_직팜정리.csv\", encoding='cp949')\n"
   ]
  },
  {
   "cell_type": "code",
   "execution_count": 2,
   "id": "b41e92c1",
   "metadata": {},
   "outputs": [
    {
     "name": "stdout",
     "output_type": "stream",
     "text": [
      "<class 'pandas.core.frame.DataFrame'>\n",
      "RangeIndex: 1705028 entries, 0 to 1705027\n",
      "Data columns (total 9 columns):\n",
      " #   Column          Dtype  \n",
      "---  ------          -----  \n",
      " 0   날짜(YYYY-MM-DD)  object \n",
      " 1   상품 중분류 이름       object \n",
      " 2   등급이름            object \n",
      " 3   총가격(원)          float64\n",
      " 4   단위총물량(kg)       float64\n",
      " 5   산지코드            int64  \n",
      " 6   산지이름            object \n",
      " 7   직팜산지코드          float64\n",
      " 8   직팜산지이름          object \n",
      "dtypes: float64(3), int64(1), object(5)\n",
      "memory usage: 117.1+ MB\n"
     ]
    }
   ],
   "source": [
    "df.info()"
   ]
  },
  {
   "cell_type": "code",
   "execution_count": 7,
   "id": "220a3f1b",
   "metadata": {},
   "outputs": [
    {
     "data": {
      "text/plain": [
       "날짜(YYYY-MM-DD)       0\n",
       "상품 중분류 이름            0\n",
       "등급이름                 0\n",
       "총가격(원)               0\n",
       "단위총물량(kg)            0\n",
       "산지코드                 0\n",
       "산지이름              6009\n",
       "직팜산지코드            6009\n",
       "직팜산지이름            6009\n",
       "dtype: int64"
      ]
     },
     "execution_count": 7,
     "metadata": {},
     "output_type": "execute_result"
    }
   ],
   "source": [
    "df.isna().sum()"
   ]
  },
  {
   "cell_type": "code",
   "execution_count": null,
   "id": "6edb1bb4",
   "metadata": {},
   "outputs": [],
   "source": []
  }
 ],
 "metadata": {
  "kernelspec": {
   "display_name": "jikfam",
   "language": "python",
   "name": "python3"
  },
  "language_info": {
   "codemirror_mode": {
    "name": "ipython",
    "version": 3
   },
   "file_extension": ".py",
   "mimetype": "text/x-python",
   "name": "python",
   "nbconvert_exporter": "python",
   "pygments_lexer": "ipython3",
   "version": "3.10.18"
  },
  "toc": {
   "base_numbering": 1,
   "nav_menu": {},
   "number_sections": false,
   "sideBar": true,
   "skip_h1_title": false,
   "title_cell": "Table of Contents",
   "title_sidebar": "Contents",
   "toc_cell": false,
   "toc_position": {},
   "toc_section_display": true,
   "toc_window_display": false
  }
 },
 "nbformat": 4,
 "nbformat_minor": 5
}
