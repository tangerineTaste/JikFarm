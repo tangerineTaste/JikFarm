{
 "cells": [
  {
   "cell_type": "code",
   "execution_count": 56,
   "id": "c696fc2b",
   "metadata": {},
   "outputs": [],
   "source": [
    "import pandas as pd\n",
    "import matplotlib.pyplot as plt\n",
    "import seaborn as sns\n",
    "\n",
    "plt.rcParams['font.family'] = 'Malgun Gothic'  # Windows의 경우\n",
    "plt.rcParams['axes.unicode_minus'] = False  # 음수 기호 깨짐 방지"
   ]
  },
  {
   "cell_type": "code",
   "execution_count": 57,
   "id": "8136584f",
   "metadata": {},
   "outputs": [],
   "source": [
    "# 작물 교체\n",
    "crop = \"마늘\"\n",
    "df = pd.read_csv(f\"../data/{crop}_lag처리.csv\", encoding=\"cp949\")\n"
   ]
  },
  {
   "cell_type": "code",
   "execution_count": 58,
   "id": "eef691ce",
   "metadata": {},
   "outputs": [
    {
     "name": "stdout",
     "output_type": "stream",
     "text": [
      "<class 'pandas.core.frame.DataFrame'>\n",
      "RangeIndex: 116453 entries, 0 to 116452\n",
      "Data columns (total 41 columns):\n",
      " #   Column            Non-Null Count   Dtype  \n",
      "---  ------            --------------   -----  \n",
      " 0   year              116453 non-null  int64  \n",
      " 1   week              116453 non-null  int64  \n",
      " 2   week_start        116453 non-null  object \n",
      " 3   품종코드              116453 non-null  int64  \n",
      " 4   등급코드              116453 non-null  int64  \n",
      " 5   직팜산지코드            116453 non-null  int64  \n",
      " 6   총거래량(kg)          116453 non-null  float64\n",
      " 7   일평균기온             116453 non-null  float64\n",
      " 8   최고기온              116453 non-null  float64\n",
      " 9   최저기온              116453 non-null  float64\n",
      " 10  평균상대습도            116453 non-null  float64\n",
      " 11  강수량(mm)           116453 non-null  float64\n",
      " 12  1시간최고강수량(mm)      116453 non-null  float64\n",
      " 13  holiday_flag      116453 non-null  int64  \n",
      " 14  holiday_score     116453 non-null  float64\n",
      " 15  grow_score        116453 non-null  float64\n",
      " 16  평균단가(원)           116453 non-null  float64\n",
      " 17  일평균기온_t-1         116453 non-null  float64\n",
      " 18  최고기온_t-1          116453 non-null  float64\n",
      " 19  최저기온_t-1          116453 non-null  float64\n",
      " 20  평균상대습도_t-1        116453 non-null  float64\n",
      " 21  강수량(mm)_t-1       116453 non-null  float64\n",
      " 22  1시간최고강수량(mm)_t-1  116453 non-null  float64\n",
      " 23  일평균기온_t-2         116453 non-null  float64\n",
      " 24  최고기온_t-2          116453 non-null  float64\n",
      " 25  최저기온_t-2          116453 non-null  float64\n",
      " 26  평균상대습도_t-2        116453 non-null  float64\n",
      " 27  강수량(mm)_t-2       116453 non-null  float64\n",
      " 28  1시간최고강수량(mm)_t-2  116453 non-null  float64\n",
      " 29  일평균기온_t-3         116453 non-null  float64\n",
      " 30  최고기온_t-3          116453 non-null  float64\n",
      " 31  최저기온_t-3          116453 non-null  float64\n",
      " 32  평균상대습도_t-3        116453 non-null  float64\n",
      " 33  강수량(mm)_t-3       116453 non-null  float64\n",
      " 34  1시간최고강수량(mm)_t-3  116453 non-null  float64\n",
      " 35  일평균기온_t-4         116453 non-null  float64\n",
      " 36  최고기온_t-4          116453 non-null  float64\n",
      " 37  최저기온_t-4          116453 non-null  float64\n",
      " 38  평균상대습도_t-4        116453 non-null  float64\n",
      " 39  강수량(mm)_t-4       116453 non-null  float64\n",
      " 40  1시간최고강수량(mm)_t-4  116453 non-null  float64\n",
      "dtypes: float64(34), int64(6), object(1)\n",
      "memory usage: 36.4+ MB\n"
     ]
    }
   ],
   "source": [
    "df.info()\n"
   ]
  },
  {
   "cell_type": "code",
   "execution_count": 59,
   "id": "d0a181f8",
   "metadata": {},
   "outputs": [
    {
     "name": "stdout",
     "output_type": "stream",
     "text": [
      "✅ 결측치 개수:\n",
      " year                0\n",
      "week                0\n",
      "week_start          0\n",
      "품종코드                0\n",
      "등급코드                0\n",
      "직팜산지코드              0\n",
      "총거래량(kg)            0\n",
      "일평균기온               0\n",
      "최고기온                0\n",
      "최저기온                0\n",
      "평균상대습도              0\n",
      "강수량(mm)             0\n",
      "1시간최고강수량(mm)        0\n",
      "holiday_flag        0\n",
      "holiday_score       0\n",
      "grow_score          0\n",
      "평균단가(원)             0\n",
      "일평균기온_t-1           0\n",
      "최고기온_t-1            0\n",
      "최저기온_t-1            0\n",
      "평균상대습도_t-1          0\n",
      "강수량(mm)_t-1         0\n",
      "1시간최고강수량(mm)_t-1    0\n",
      "일평균기온_t-2           0\n",
      "최고기온_t-2            0\n",
      "최저기온_t-2            0\n",
      "평균상대습도_t-2          0\n",
      "강수량(mm)_t-2         0\n",
      "1시간최고강수량(mm)_t-2    0\n",
      "일평균기온_t-3           0\n",
      "최고기온_t-3            0\n",
      "최저기온_t-3            0\n",
      "평균상대습도_t-3          0\n",
      "강수량(mm)_t-3         0\n",
      "1시간최고강수량(mm)_t-3    0\n",
      "일평균기온_t-4           0\n",
      "최고기온_t-4            0\n",
      "최저기온_t-4            0\n",
      "평균상대습도_t-4          0\n",
      "강수량(mm)_t-4         0\n",
      "1시간최고강수량(mm)_t-4    0\n",
      "dtype: int64\n",
      "✅ 전체 결측치 합: 0\n",
      "✅ 중복 행 수: 0\n"
     ]
    }
   ],
   "source": [
    "print(\"✅ 결측치 개수:\\n\", df.isna().sum())\n",
    "print(\"✅ 전체 결측치 합:\", df.isna().sum().sum())\n",
    "print(\"✅ 중복 행 수:\", df.duplicated().sum())\n"
   ]
  },
  {
   "cell_type": "code",
   "execution_count": 60,
   "id": "42d97aed",
   "metadata": {},
   "outputs": [
    {
     "name": "stdout",
     "output_type": "stream",
     "text": [
      "🔢 수치형 컬럼: ['year', 'week', '품종코드', '등급코드', '직팜산지코드', '총거래량(kg)', '일평균기온', '최고기온', '최저기온', '평균상대습도', '강수량(mm)', '1시간최고강수량(mm)', 'holiday_flag', 'holiday_score', 'grow_score', '평균단가(원)', '일평균기온_t-1', '최고기온_t-1', '최저기온_t-1', '평균상대습도_t-1', '강수량(mm)_t-1', '1시간최고강수량(mm)_t-1', '일평균기온_t-2', '최고기온_t-2', '최저기온_t-2', '평균상대습도_t-2', '강수량(mm)_t-2', '1시간최고강수량(mm)_t-2', '일평균기온_t-3', '최고기온_t-3', '최저기온_t-3', '평균상대습도_t-3', '강수량(mm)_t-3', '1시간최고강수량(mm)_t-3', '일평균기온_t-4', '최고기온_t-4', '최저기온_t-4', '평균상대습도_t-4', '강수량(mm)_t-4', '1시간최고강수량(mm)_t-4']\n",
      "🔤 범주형 컬럼: ['week_start']\n"
     ]
    }
   ],
   "source": [
    "numerical_cols = df.select_dtypes(include=[\"int64\", \"float64\"]).columns.tolist()\n",
    "categorical_cols = df.select_dtypes(include=[\"object\"]).columns.tolist()\n",
    "\n",
    "print(\"🔢 수치형 컬럼:\", numerical_cols)\n",
    "print(\"🔤 범주형 컬럼:\", categorical_cols)\n"
   ]
  },
  {
   "cell_type": "code",
   "execution_count": 61,
   "id": "2553eecc",
   "metadata": {},
   "outputs": [],
   "source": [
    "from sklearn.preprocessing import RobustScaler"
   ]
  },
  {
   "cell_type": "code",
   "execution_count": 62,
   "id": "c1935ba9",
   "metadata": {},
   "outputs": [],
   "source": [
    "target = '평균단가(원)'\n",
    "exclude_cols = ['year', 'week', '품종코드', '등급코드', '직팜산지코드', target]\n",
    "\n",
    "# 수치형 변수 중 제외대상 뺀 것만 스케일링\n",
    "numerical_cols = df.select_dtypes(include=[\"int64\", \"float64\"]).columns.tolist()\n",
    "scale_cols = [col for col in numerical_cols if col not in exclude_cols]\n"
   ]
  },
  {
   "cell_type": "code",
   "execution_count": 63,
   "id": "83264040",
   "metadata": {},
   "outputs": [],
   "source": [
    "scaler = RobustScaler()\n",
    "df_scaled = df.copy()\n",
    "df_scaled[scale_cols] = scaler.fit_transform(df_scaled[scale_cols])\n"
   ]
  },
  {
   "cell_type": "code",
   "execution_count": 64,
   "id": "b929e8e1",
   "metadata": {},
   "outputs": [
    {
     "name": "stdout",
     "output_type": "stream",
     "text": [
      "✅ 저장 완료\n"
     ]
    }
   ],
   "source": [
    "df_scaled.to_csv(f\"../data/{crop}(EDA용)_스케일링만.csv\", index=False, encoding='cp949')\n",
    "print(f\"✅ 저장 완료\")"
   ]
  },
  {
   "cell_type": "code",
   "execution_count": null,
   "id": "a75fccf0",
   "metadata": {},
   "outputs": [],
   "source": []
  },
  {
   "cell_type": "code",
   "execution_count": null,
   "id": "bb4b0d76",
   "metadata": {},
   "outputs": [],
   "source": []
  },
  {
   "cell_type": "code",
   "execution_count": null,
   "id": "24b19504",
   "metadata": {},
   "outputs": [],
   "source": []
  },
  {
   "cell_type": "code",
   "execution_count": null,
   "id": "b810ce8e",
   "metadata": {},
   "outputs": [],
   "source": []
  },
  {
   "cell_type": "code",
   "execution_count": null,
   "id": "e0997aba",
   "metadata": {},
   "outputs": [],
   "source": []
  },
  {
   "cell_type": "code",
   "execution_count": null,
   "id": "45561de0",
   "metadata": {},
   "outputs": [],
   "source": []
  },
  {
   "cell_type": "code",
   "execution_count": null,
   "id": "84d1c646",
   "metadata": {},
   "outputs": [],
   "source": []
  }
 ],
 "metadata": {
  "kernelspec": {
   "display_name": "jikfam",
   "language": "python",
   "name": "python3"
  },
  "language_info": {
   "codemirror_mode": {
    "name": "ipython",
    "version": 3
   },
   "file_extension": ".py",
   "mimetype": "text/x-python",
   "name": "python",
   "nbconvert_exporter": "python",
   "pygments_lexer": "ipython3",
   "version": "3.10.18"
  }
 },
 "nbformat": 4,
 "nbformat_minor": 5
}
