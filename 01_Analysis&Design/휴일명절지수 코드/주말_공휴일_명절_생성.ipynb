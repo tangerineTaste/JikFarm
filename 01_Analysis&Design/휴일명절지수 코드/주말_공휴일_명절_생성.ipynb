{
 "cells": [
  {
   "cell_type": "code",
   "execution_count": 4,
   "id": "642ff2f2",
   "metadata": {},
   "outputs": [],
   "source": [
    "import pandas as pd\n",
    "import numpy as np\n",
    "from datetime import datetime, timedelta\n",
    "import holidays\n",
    "\n",
    "# 1. 날짜 범위 설정\n",
    "start_date = datetime(2018, 1, 1)\n",
    "end_date = datetime.today()\n",
    "date_range = pd.date_range(start=start_date, end=end_date)\n",
    "\n",
    "# 2. 한국 공휴일 정보 가져오기\n",
    "kr_holidays = holidays.KR(years=range(2018, end_date.year + 1))\n",
    "\n",
    "# 3. 설날 / 추석 기준일 리스트\n",
    "holiday_dates = [\n",
    "    # 설날\n",
    "    datetime(2018, 2, 16), datetime(2019, 2, 5), datetime(2020, 1, 25),\n",
    "    datetime(2021, 2, 12), datetime(2022, 2, 1), datetime(2023, 1, 22),\n",
    "    datetime(2024, 2, 10), datetime(2025, 1, 29),\n",
    "    # 추석\n",
    "    datetime(2018, 9, 24), datetime(2019, 9, 13), datetime(2020, 10, 1),\n",
    "    datetime(2021, 9, 21), datetime(2022, 9, 10), datetime(2023, 9, 29),\n",
    "    datetime(2024, 9, 17), datetime(2025, 10, 6),\n",
    "]\n",
    "\n",
    "# 4. 명절 영향 지수 계산 함수 / 명절 이전기간이 더 크게 영향을 주고 양상이 다르므로\n",
    "def compute_holiday_score_asymmetric(date, holidays, pre_window=14, post_window=7):\n",
    "    score = 0.0\n",
    "    for h in holidays:\n",
    "        diff = (date - h).days\n",
    "\n",
    "        if -pre_window <= diff < 0:\n",
    "            # 명절 전: 완만한 선형 감소\n",
    "            score = max(score, round(1 - (abs(diff) / pre_window), 4))\n",
    "        elif diff == 0:\n",
    "            score = max(score, 1.0)\n",
    "        elif 0 < diff <= post_window:\n",
    "            # 명절 후: 더 빠른 감쇠\n",
    "            score = max(score, round(0.7 - (diff / post_window) * 0.7, 4))\n",
    "    return score\n",
    "\n",
    "\n",
    "# 5. 데이터프레임 생성\n",
    "df = pd.DataFrame({'date': date_range})\n",
    "df['weekday'] = df['date'].dt.weekday  # 0=월, 6=일\n",
    "df['is_weekend'] = df['weekday'].isin([5, 6])  # 토/일 여부\n",
    "df['is_kor_holiday'] = df['date'].isin(kr_holidays)\n",
    "df['holiday_flag'] = (df['is_weekend'] | df['is_kor_holiday']).astype(int)\n",
    "\n",
    "df['holiday_score'] = df['date'].apply(lambda x: compute_holiday_score_asymmetric(x, holiday_dates))\n",
    "\n",
    "# 6. 정리 및 저장\n",
    "df_final = df[['date', 'holiday_flag', 'holiday_score']]\n",
    "df_final.to_csv('holiday_score_table.csv', index=False, encoding='cp949')"
   ]
  },
  {
   "cell_type": "code",
   "execution_count": null,
   "id": "7f74abb4",
   "metadata": {},
   "outputs": [],
   "source": []
  }
 ],
 "metadata": {
  "kernelspec": {
   "display_name": "ml-dl-nlp",
   "language": "python",
   "name": "ml-dl-nlp"
  },
  "language_info": {
   "codemirror_mode": {
    "name": "ipython",
    "version": 3
   },
   "file_extension": ".py",
   "mimetype": "text/x-python",
   "name": "python",
   "nbconvert_exporter": "python",
   "pygments_lexer": "ipython3",
   "version": "3.10.18"
  },
  "toc": {
   "base_numbering": 1,
   "nav_menu": {},
   "number_sections": false,
   "sideBar": true,
   "skip_h1_title": false,
   "title_cell": "Table of Contents",
   "title_sidebar": "Contents",
   "toc_cell": false,
   "toc_position": {},
   "toc_section_display": true,
   "toc_window_display": false
  }
 },
 "nbformat": 4,
 "nbformat_minor": 5
}
