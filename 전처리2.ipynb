{
 "cells": [
  {
   "cell_type": "code",
   "execution_count": 3,
   "id": "5a849626",
   "metadata": {},
   "outputs": [
    {
     "name": "stderr",
     "output_type": "stream",
     "text": [
      "C:\\Users\\Admin\\AppData\\Local\\Temp\\ipykernel_11992\\857768080.py:11: DtypeWarning: Columns (17) have mixed types. Specify dtype option on import or set low_memory=False.\n",
      "  df_template = pd.read_csv(template_path, encoding='cp949')\n"
     ]
    }
   ],
   "source": [
    "import pandas as pd\n",
    "import ast\n",
    "\n",
    "# 파일 경로\n",
    "retry_success_path = \"유통공사_retry_success_20250708_084350.csv\"\n",
    "template_path = \"유통공사_도매시장_배추_20180103-20241231.csv\"\n",
    "output_path = \"유통공사_retry_success_형식변환_20250708.csv\"\n",
    "\n",
    "# CSV 파일 불러오기 (한글 포함이므로 cp949 인코딩)\n",
    "df_retry_success = pd.read_csv(retry_success_path, encoding='cp949')\n",
    "df_template = pd.read_csv(template_path, encoding='cp949')\n",
    "\n",
    "# \"0\" 값만 있는 행 제거\n",
    "df_filtered = df_retry_success[df_retry_success[\"0\"] != \"0\"].copy()\n",
    "df_filtered.columns = [\"raw\"]  # 열 이름 재지정\n",
    "\n",
    "# 문자열을 파이썬 딕셔너리로 안전하게 변환\n",
    "df_parsed = df_filtered[\"raw\"].apply(ast.literal_eval)\n",
    "df_data = pd.DataFrame(df_parsed.tolist())\n",
    "\n",
    "# 열 순서 맞추기 (template 기준)\n",
    "df_data = df_data.reindex(columns=df_template.columns)\n",
    "\n",
    "# 저장\n",
    "df_data.to_csv(output_path, index=False, encoding='cp949')"
   ]
  },
  {
   "cell_type": "code",
   "execution_count": 4,
   "id": "482b0580",
   "metadata": {},
   "outputs": [
    {
     "name": "stderr",
     "output_type": "stream",
     "text": [
      "C:\\Users\\Admin\\AppData\\Local\\Temp\\ipykernel_11992\\379043658.py:11: DtypeWarning: Columns (17) have mixed types. Specify dtype option on import or set low_memory=False.\n",
      "  df_existing = pd.read_csv(existing_path, encoding='cp949')\n",
      "C:\\Users\\Admin\\AppData\\Local\\Temp\\ipykernel_11992\\379043658.py:12: DtypeWarning: Columns (13) have mixed types. Specify dtype option on import or set low_memory=False.\n",
      "  df_new = pd.read_csv(new_path, encoding='cp949')\n"
     ]
    }
   ],
   "source": [
    "# 병합하기\n",
    "\n",
    "import pandas as pd\n",
    "\n",
    "# 파일 경로 설정\n",
    "existing_path = \"유통공사_도매시장_배추_20180103-20241231.csv\"\n",
    "new_path = \"유통공사_retry_success_형식변환_20250708.csv\"\n",
    "output_path = \"유통공사_도매시장_배추_병합중복제거_20250708.csv\"\n",
    "\n",
    "# CSV 파일 불러오기\n",
    "df_existing = pd.read_csv(existing_path, encoding='cp949')\n",
    "df_new = pd.read_csv(new_path, encoding='cp949')\n",
    "\n",
    "# 데이터 병합\n",
    "df_merged = pd.concat([df_existing, df_new], ignore_index=True)\n",
    "\n",
    "# 날짜 컬럼을 datetime으로 변환 후 정렬\n",
    "df_merged[\"trd_clcln_ymd\"] = pd.to_datetime(df_merged[\"trd_clcln_ymd\"])\n",
    "df_merged.sort_values(\"trd_clcln_ymd\", inplace=True)\n",
    "\n",
    "# 완전 중복 행 제거\n",
    "df_merged.drop_duplicates(inplace=True)\n",
    "\n",
    "# 저장\n",
    "df_merged.to_csv(output_path, index=False, encoding='cp949')"
   ]
  },
  {
   "cell_type": "code",
   "execution_count": 8,
   "id": "12c3d58a",
   "metadata": {},
   "outputs": [
    {
     "name": "stderr",
     "output_type": "stream",
     "text": [
      "C:\\Users\\Admin\\AppData\\Local\\Temp\\ipykernel_11992\\436796294.py:8: DtypeWarning: Columns (13,17) have mixed types. Specify dtype option on import or set low_memory=False.\n",
      "  df = pd.read_csv(input_path, encoding='cp949')\n"
     ]
    }
   ],
   "source": [
    "import pandas as pd\n",
    "\n",
    "# 파일 경로\n",
    "input_path = \"유통공사_도매시장_배추_병합중복제거_20250708.csv\"\n",
    "output_path = \"유통공사_도매시장_배추_한글컬럼명_20250708.csv\"\n",
    "\n",
    "# CSV 불러오기\n",
    "df = pd.read_csv(input_path, encoding='cp949')\n",
    "\n",
    "# 새로운 한글 컬럼명\n",
    "new_columns = [\n",
    "    '평균가격', '법인코드', '법인이름', '상품 대분류 코드', '상품 대분류 이름',\n",
    "    '상품 중분류 코드', '상품 중분류 이름', '상품 소분류 코드', '상품 소분류 이름',\n",
    "    '등급코드', '등급이름', '최고가', '최저가', '포장코드', '포장이름',\n",
    "    '산지코드', '산지이름', '크기코드', '크기이름', '총가격', '날짜',\n",
    "    '매매구분', '단위코드', '단위', '단위물량', '단위총물량', '도매시장코드', '도매시장이름'\n",
    "]\n",
    "\n",
    "# 컬럼명 변경\n",
    "if len(df.columns) == len(new_columns):\n",
    "    df.columns = new_columns\n",
    "else:\n",
    "    raise ValueError(\"컬럼 수가 맞지 않아 컬럼명을 변경할 수 없습니다.\")\n",
    "\n",
    "# 저장\n",
    "df.to_csv(output_path, index=False, encoding='cp949')"
   ]
  },
  {
   "cell_type": "code",
   "execution_count": 10,
   "id": "0add8419",
   "metadata": {},
   "outputs": [
    {
     "name": "stderr",
     "output_type": "stream",
     "text": [
      "C:\\Users\\Admin\\AppData\\Local\\Temp\\ipykernel_11992\\772746532.py:8: DtypeWarning: Columns (13,17) have mixed types. Specify dtype option on import or set low_memory=False.\n",
      "  df = pd.read_csv(input_path, encoding='cp949')\n"
     ]
    }
   ],
   "source": [
    "import pandas as pd\n",
    "\n",
    "# 파일 경로\n",
    "input_path = \"유통공사_도매시장_배추_한글컬럼명_20250708.csv\"\n",
    "output_path = \"유통공사_배추_요약데이터_20250708.csv\"\n",
    "\n",
    "# CSV 파일 불러오기\n",
    "df = pd.read_csv(input_path, encoding='cp949')\n",
    "\n",
    "selected_columns = ['날짜', '상품 중분류 이름', '등급이름', '총가격', '단위총물량', '산지코드', '산지이름']\n",
    "df_selected = df[selected_columns]\n",
    "\n",
    "# 새 CSV로 저장\n",
    "df_selected.to_csv(output_path, index=False, encoding='cp949')"
   ]
  },
  {
   "cell_type": "code",
   "execution_count": 17,
   "id": "6da9e764",
   "metadata": {},
   "outputs": [],
   "source": [
    "import pandas as pd\n",
    "\n",
    "# CSV 파일 로드\n",
    "df = pd.read_csv('표준코드_산지코드.csv', encoding='cp949')\n",
    "\n",
    "# 숫자 비교를 위해 'plor_cd' 정수형으로 변환\n",
    "df['plor_cd'] = pd.to_numeric(df['plor_cd'], errors='coerce')\n",
    "\n",
    "# 제외할 지역명 접두어\n",
    "excluded_prefixes = ['서울', '대전', '세종', '인천', '광주', '부산', '울산', '대구']\n",
    "\n",
    "# 제외 조건: plor_cd < 800000 AND plor_nm이 제외 접두어로 시작하지 않는 것\n",
    "mask = (df['plor_cd'] < 800000) & (~df['plor_nm'].str.startswith(tuple(excluded_prefixes)))\n",
    "\n",
    "# 필터링\n",
    "filtered_df = df[mask]\n",
    "\n",
    "# 결과 저장\n",
    "filtered_df.to_csv('filtered_산지코드.csv', index=False, encoding='cp949')"
   ]
  },
  {
   "cell_type": "code",
   "execution_count": 21,
   "id": "695c90de",
   "metadata": {},
   "outputs": [],
   "source": [
    "import pandas as pd\n",
    "\n",
    "# CSV 파일 경로\n",
    "file_path = 'filtered_산지코드.csv'\n",
    "\n",
    "# CSV 파일 읽기 (한글 인코딩 고려)\n",
    "df = pd.read_csv(file_path, encoding='cp949')\n",
    "\n",
    "# 축약형 -> 전체 행정구역 이름 매핑\n",
    "region_map = {\n",
    "    '강원': '강원도',\n",
    "    '경기': '경기도',\n",
    "    '경남': '경상남도',\n",
    "    '경북': '경상북도',\n",
    "    '광주': '광주광역시',\n",
    "    '대구': '대구광역시',\n",
    "    '대전': '대전광역시',\n",
    "    '부산': '부산광역시',\n",
    "    '서울': '서울특별시',\n",
    "    '세종': '세종특별자치시',\n",
    "    '울산': '울산광역시',\n",
    "    '인천': '인천광역시',\n",
    "    '전남': '전라남도',\n",
    "    '전북': '전라북도',\n",
    "    '제주': '제주특별자치도',\n",
    "    '충남': '충청남도',\n",
    "    '충북': '충청북도'\n",
    "}\n",
    "\n",
    "# 안전한 교체 함수\n",
    "def replace_region_name_safe(plor_nm):\n",
    "    for short, full in region_map.items():\n",
    "        if plor_nm.startswith(full):  # 이미 전체 이름이면 그대로\n",
    "            return plor_nm\n",
    "        elif plor_nm.startswith(short):  # 축약형이면 교체\n",
    "            return full + plor_nm[len(short):]\n",
    "    return plor_nm  # 매칭 안 되면 그대로\n",
    "\n",
    "# 적용\n",
    "df['plor_nm'] = df['plor_nm'].apply(replace_region_name_safe)\n",
    "\n",
    "# 결과 저장 (선택사항)\n",
    "df.to_csv('updated_산지코드.csv', index=False, encoding='cp949')"
   ]
  },
  {
   "cell_type": "code",
   "execution_count": 23,
   "id": "1b149f17",
   "metadata": {},
   "outputs": [
    {
     "name": "stdout",
     "output_type": "stream",
     "text": [
      "  region_city                                      plor_cd_range\n",
      "0     강원도 강릉시  210000,210003,210010,210020,210030,210040,2100...\n",
      "1     강원도 고성군  219000,219700,219705,219800~219804,219810~2198...\n",
      "2     강원도 동해시  240000,240010,240020,240030,240041~240044,2400...\n",
      "3     강원도 삼척시  235900~235914,235920~235921,245000,245010,2450...\n",
      "4     강원도 속초시  217000,217010,217020,217030,217040,217050,2170...\n"
     ]
    }
   ],
   "source": [
    "import pandas as pd\n",
    "\n",
    "# CSV 파일 경로\n",
    "file_path = 'updated_산지코드.csv'\n",
    "\n",
    "# CSV 파일 읽기 (한글 인코딩 고려)\n",
    "df = pd.read_csv(file_path, encoding='cp949')\n",
    "\n",
    "# 도 + 시/군까지만 추출 (예: '강원도 춘천시')\n",
    "df['region_city'] = df['plor_nm'].str.extract(r'^([^\\s]+ [^\\s]+)')\n",
    "\n",
    "# plor_cd를 정수형으로 변환\n",
    "df['plor_cd'] = df['plor_cd'].astype(int)\n",
    "\n",
    "# 연속된 코드 묶기\n",
    "def condense_ranges(codes):\n",
    "    codes = sorted(set(codes))\n",
    "    ranges = []\n",
    "    start = prev = codes[0]\n",
    "\n",
    "    for code in codes[1:]:\n",
    "        if code == prev + 1:\n",
    "            prev = code\n",
    "        else:\n",
    "            if start == prev:\n",
    "                ranges.append(f\"{start}\")\n",
    "            else:\n",
    "                ranges.append(f\"{start}~{prev}\")\n",
    "            start = prev = code\n",
    "\n",
    "    if start == prev:\n",
    "        ranges.append(f\"{start}\")\n",
    "    else:\n",
    "        ranges.append(f\"{start}~{prev}\")\n",
    "\n",
    "    return ','.join(ranges)\n",
    "\n",
    "# 지역별 plor_cd 묶기\n",
    "grouped = df.groupby('region_city')['plor_cd'].apply(condense_ranges).reset_index()\n",
    "grouped.columns = ['region_city', 'plor_cd_range']\n",
    "\n",
    "# 결과 확인 또는 저장\n",
    "print(grouped.head())\n",
    "\n",
    "# 저장 (선택)\n",
    "grouped.to_csv('지역별_plor_cd범위.csv', index=False, encoding='cp949')"
   ]
  },
  {
   "cell_type": "code",
   "execution_count": null,
   "id": "f3dabda8",
   "metadata": {},
   "outputs": [],
   "source": []
  }
 ],
 "metadata": {
  "kernelspec": {
   "display_name": "ml-dl-nlp",
   "language": "python",
   "name": "ml-dl-nlp"
  },
  "language_info": {
   "codemirror_mode": {
    "name": "ipython",
    "version": 3
   },
   "file_extension": ".py",
   "mimetype": "text/x-python",
   "name": "python",
   "nbconvert_exporter": "python",
   "pygments_lexer": "ipython3",
   "version": "3.10.18"
  },
  "toc": {
   "base_numbering": 1,
   "nav_menu": {},
   "number_sections": false,
   "sideBar": true,
   "skip_h1_title": false,
   "title_cell": "Table of Contents",
   "title_sidebar": "Contents",
   "toc_cell": false,
   "toc_position": {},
   "toc_section_display": true,
   "toc_window_display": false
  }
 },
 "nbformat": 4,
 "nbformat_minor": 5
}
